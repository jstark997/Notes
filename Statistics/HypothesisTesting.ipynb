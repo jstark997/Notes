{
 "cells": [
  {
   "cell_type": "markdown",
   "id": "46f86695",
   "metadata": {},
   "source": [
    "# Hypothesis Testing\n",
    "---"
   ]
  },
  {
   "cell_type": "markdown",
   "id": "8f97edcb",
   "metadata": {},
   "source": [
    "## Import Python Libraries"
   ]
  },
  {
   "cell_type": "code",
   "execution_count": 1,
   "id": "dce0e5a0",
   "metadata": {},
   "outputs": [],
   "source": [
    "# import Python libraries\n",
    "import matplotlib.pyplot as plt\n",
    "import seaborn as sns\n",
    "import numpy as np\n",
    "import pandas as pd\n",
    "from scipy import stats"
   ]
  },
  {
   "cell_type": "markdown",
   "id": "bbadd613",
   "metadata": {},
   "source": [
    "## Left Align Cell Contents"
   ]
  },
  {
   "cell_type": "code",
   "execution_count": 2,
   "id": "d8099dfe",
   "metadata": {},
   "outputs": [
    {
     "data": {
      "text/html": [
       "<style>\n",
       "table {float:left}\n",
       "</style>\n"
      ],
      "text/plain": [
       "<IPython.core.display.HTML object>"
      ]
     },
     "metadata": {},
     "output_type": "display_data"
    }
   ],
   "source": [
    "%%html\n",
    "<style>\n",
    "table {float:left}\n",
    "</style>"
   ]
  },
  {
   "cell_type": "markdown",
   "id": "ed47553c",
   "metadata": {},
   "source": [
    "---"
   ]
  },
  {
   "cell_type": "markdown",
   "id": "09599a8a",
   "metadata": {},
   "source": [
    "## Inferential Statistics"
   ]
  },
  {
   "cell_type": "markdown",
   "id": "9a0d9626",
   "metadata": {},
   "source": [
    "Using the statistics we can calculate from the samples collected and making inferences about the population the samples are from is called **inferential statistics**.\n",
    "\n",
    "A key process in inferential statistics is **hypothesis testing** which consists of 5 steps:\n",
    "1. State the null and alternative hypotheses\n",
    "2. Select a level of significance\n",
    "3. Calculate the test statistic\n",
    "4. Determine the critical value(s) and locate the regions of acceptance and rejection\n",
    "5. State the conclusion\n",
    "\n",
    "The **null hypothesis**, $ H_0 $, is a statement about the status quo for the population parameter we are interested in.\n",
    "\n",
    "The **alternative hypothesis**, $ H_a $, is a statement about the population parameter we are testing for.\n",
    "\n",
    "If the samples we have collect support the alternative hypothesis then we can reject the null hypothesis.\n",
    "\n",
    "Summary of how null and alternative hypotheses are stated:\n",
    "- If $ H_0 $ is $ = \\mu $ or $ = p $ then $ H_a $ is $ \\neq \\mu $ or $ \\neq p $\n",
    "- If $ H_0 $ is $ \\le \\mu $ or $ \\le p $ then $ H_a $ is $ \\gt \\mu $ or $ \\gt p $\n",
    "- If $ H_0 $ is $ \\ge \\mu $ or $ \\ge p $ then $ H_a $ is $ \\lt \\mu $ or $ \\lt p $\n",
    "\n",
    "Where:\n",
    "- ($ \\mu $) is the population mean\n",
    "- ($ p $) is the population proportion\n",
    "\n"
   ]
  },
  {
   "cell_type": "markdown",
   "id": "892fd577",
   "metadata": {},
   "source": [
    "---"
   ]
  },
  {
   "cell_type": "markdown",
   "id": "c03d8697",
   "metadata": {},
   "source": [
    "## Type I and Type II Errors"
   ]
  },
  {
   "cell_type": "markdown",
   "id": "4f755180",
   "metadata": {},
   "source": [
    "**Type I error**, or **false positive**, is to reject a null hypothesis that is actually true and accept an alternative hypothesis that is actually false.\n",
    "\n",
    "**Type II error**, or **false negative**, is to accept a null hypothesis that is actually false and reject an alternative hypothesis that is actually true.\n",
    "\n",
    "$ \\alpha $, or level of significance, is the probability of making a Type I error.\n",
    "$ \\beta $ is the probabilityh of making a Type II error.\n",
    "\n",
    "The **power** of a hypothesis test is the probability that the null hypothesis will be rejected when it is false. The power is $ 1 - \\beta $ .\n",
    "\n",
    "The higher the confidence level the lower the $ \\alpha $, which means that confidence interval will be larger and the margin of error will be larger, but the probability of making a Type I error will be smaller.\n",
    "\n",
    "There is an inverse relationship between $ \\alpha $ and $ \\beta $, or between the probability of making a Type I error and the probability of making a Type II error.\n",
    "\n",
    "As $ \\alpha $ decreases:\n",
    "- the region of acceptance increases\n",
    "- the probability of accepting a null hypothesis that is actually false increases\n",
    "- $ \\beta $ increases (or the probability of making a Type II error)\n",
    "- the power of the test decreases\n",
    "\n",
    "The only way to decrease $ \\alpha $ and $ \\beta $ simultaneously is to increase the sample size. When the sample size equals the size of the population both $ \\alpha $ and $ \\beta $ are 0."
   ]
  },
  {
   "cell_type": "markdown",
   "id": "47e0ac38",
   "metadata": {},
   "source": [
    "---"
   ]
  },
  {
   "cell_type": "markdown",
   "id": "b8abc4bc",
   "metadata": {},
   "source": [
    "## One and Two Tailed Tests"
   ]
  },
  {
   "cell_type": "markdown",
   "id": "46a64ba4",
   "metadata": {},
   "source": [
    "**Two-tailed test** is used when the null and alternative hypotheses are stated using $ = $ and $ \\neq $. This test is non-directional as the test is only that the population parameter is different than the value stated in the null hypothesis. The region of rejection will include both tails.\n",
    "\n",
    "**One-tailed test** is used when the null and alternative hypotheses are stated using either $ \\le $ and $ \\gt $ or $ \\ge $ and $ \\lt $. These are directional tests because what is being tested is whether the population parameter is less than or greater than the value in the null hypothesis. The region of rejection will be limited to one of the tails. Because all of the area that is the region of rejection is in a single tail, a one-tailed test is less conservative than a two-tailed test as there is a greater probability that a result will fall into the larger region of rejection. The two-tailed test requires a more extreme result to reject the null hypothesis. \n",
    "\n",
    "**Lower-tailed test** or **Left-tailed test** - If the alternative hypothesis is that the population parameter is less than the value in the null hypothesis. \n",
    "\n",
    "**Upper-tailed test** or **Right-tailed test** - If the alternative hypothesis is that the population parameter is greater than the value in the null hypothesis.\n",
    "\n",
    "The $ \\alpha $ for a two-tailed test is split between the two tails. The $ \\alpha $ for a one-tailed test is entirely contained within one of the tails.\n"
   ]
  },
  {
   "cell_type": "markdown",
   "id": "af8e091e",
   "metadata": {},
   "source": [
    "---"
   ]
  },
  {
   "cell_type": "markdown",
   "id": "a7cabbdd",
   "metadata": {},
   "source": [
    "## Critical Value"
   ]
  },
  {
   "cell_type": "markdown",
   "id": "aea823d9",
   "metadata": {},
   "source": [
    "A **critical value** is a threshold in hypothesis testing that determines the boundary or boundaries for rejecting the null hypothesis. It is a point on the test distribution that is compared to the test statistic to decide whether to reject the null hypothesis. The critical value depends on the chosen significance level (alpha, usually 1%, 5% or 10%) and the nature of the test (one-tailed or two-tailed).\n",
    "\n",
    "Using a z-score as a critical value:\n",
    "- For a lower-tailed test, if $ z \\le -z_\\alpha $ then reject the null hypothesis\n",
    "- For an upper-tailed test, if $ z \\ge z_\\alpha $ then reject the null hypothesis\n",
    "- For a two-tailed test, if $ z \\le -z_\\frac{\\alpha}{2} $ or $ z \\ge z_\\frac{\\alpha}{2} $ then reject the null hypothesis\n",
    "\n",
    "The above also applies when the critical value is a t-score found in the t-table.\n",
    "\n",
    "### Looking up critical values\n",
    "\n",
    "- One-tailed test: Find the value in the z-table or t-table that is associated with the selected $ \\alpha $.\n",
    "- Two-tailed test: Find the values in the z-table or t-table that is associated with half the selected $ \\alpha $, one for the lower tail and one for the upper tail.\n",
    "\n",
    "#### Example\n",
    "\n",
    "If the selected $ alpha $ is 0.10 (for a 90% confidence level) using the z-distribution:\n",
    "- One-tailed test: the critical value $ z_\\alpha $ would be the value in the z-table for $ alpha = 0.1000 $ for lower-tailed test or $ 1 - \\alpha = 0.9000 $ for upper-tailed test\n",
    "- Two-tailed test: the critical values, $ z_{\\frac{\\alpha}{2}} $, would be the value in the z-table for $ \\frac{\\alpha}{2} = 0.0500 $ for the lower tail and $ 1 - \\frac{\\alpha}{2} = 0.9500 $ for the upper tail."
   ]
  },
  {
   "cell_type": "markdown",
   "id": "0892f775",
   "metadata": {},
   "source": [
    "---"
   ]
  },
  {
   "cell_type": "markdown",
   "id": "b0342391",
   "metadata": {},
   "source": [
    "## Calculating Test Statistics"
   ]
  },
  {
   "cell_type": "markdown",
   "id": "150dac9d",
   "metadata": {},
   "source": [
    "The **test statistic** provides a standardized value that can be used to determine whether to reject the null hypothesis. It essentially quantifies the difference between the observed data and what is expected under the null hypothesis.\n",
    "\n",
    "Once the test statistic is calculated, it is compared to critical values from the chosen statistical distribution. These critical values are determined by the significance level (alpha, usually 0.05) and the type of test (one-tailed or two-tailed). If the test statistic falls beyond the critical value(s), the null hypothesis is rejected.\n",
    "\n",
    "In general the test statistic is\n",
    "\n",
    "$$ \\text{test statistic} = \\frac{\\text{observed} - \\text{expected}}{\\text{standard deviation}} $$\n",
    "\n",
    "Where $ \\text{expected} $ is the value hypothesized by the null hypothesis.\n",
    "\n",
    "### Mean\n",
    "\n",
    "When standard deviation is known:\n",
    "\n",
    "$$ z = \\frac{\\bar{x} - \\mu_0}{\\sigma_{\\bar{x}}} = \\frac{\\bar{x} - \\mu_0}{\\frac{\\sigma}{\\sqrt{n}}} $$\n",
    "\n",
    "When standard deviation is unknown or sample size is small:\n",
    "\n",
    "$$ t = \\frac{\\bar{x} - \\mu_0}{s_{\\bar{x}}} = \\frac{\\bar{x} - \\mu_0}{\\frac{s}{\\sqrt{n}}} $$\n",
    "\n",
    "### Proportion\n",
    "\n",
    "When $ n\\hat{p} \\ge 5 $ and $ n(1 - \\hat{p}) \\ge 5 $:\n",
    "\n",
    "$$ z = \\frac{\\hat{p} - p_0}{\\sigma_{\\hat{p}}} = \\frac{\\hat{p} - p_0}{\\sqrt{\\frac{p_0(1 - p_0)}{n}}} $$\n",
    "\n"
   ]
  },
  {
   "cell_type": "markdown",
   "id": "0d0c461a",
   "metadata": {},
   "source": [
    "---"
   ]
  },
  {
   "cell_type": "markdown",
   "id": "20f593ed",
   "metadata": {},
   "source": [
    "## P-value"
   ]
  },
  {
   "cell_type": "markdown",
   "id": "27170175",
   "metadata": {},
   "source": [
    "The **p-value** is the smallest level of significance at which the null hypothesis can be rejected if it is assumed to be true.\n",
    "\n",
    "Calculating the p-value for a one-tailed test:\n",
    "1. Calculate the z-score.\n",
    "2. Look up the value for the z-score in the z-table, using the negative z-table for a lower-tailed test and a positive z-table for an upper-tailed test.\n",
    "3. For a lower-tailed test the value in the z-table is area of the region of rejection for the test. For an upper-tailed test the 1 less the value in the z-table is the area of the region of rejection. In both cases the area is the p-value.\n",
    "\n",
    "Calculating the p-value for a two-tailed test:\n",
    "1. Calculate the z-score.\n",
    "2. Look up the value for the z-score in the z-table.\n",
    "3. The value in the z-table is half the total area of the region of rejection in both tails. Double the value to get the p-value.\n",
    "\n",
    "Using the p-value:\n",
    "- If $ p \\le \\alpha $ then reject the null hypothesis\n",
    "- If $ p \\gt \\alpha $ then do not reject the null hypothesis\n",
    "\n",
    "Using critical value:\n",
    "- For a lower-tailed test, if $ z \\le -z_\\alpha $ then reject the null hypothesis\n",
    "- For an upper-tailed test, if $ z \\ge z_\\alpha $ then reject the null hypothesis\n",
    "- For a two-tailed test, if $ z \\le -z_\\frac{\\alpha}{2} $ or $ z \\ge z_\\frac{\\alpha}{2} $ then reject the null hypothesis\n",
    "\n",
    "The **significance** or **statistical significance** of a test is the probability that the result was obtained by chance.\n",
    "\n",
    "The following are equivalent:\n",
    "- The confidence level is 99%\n",
    "- The Type I error rate is 0.01\n",
    "- The alpha level or $ \\alpha $ is 0.01\n",
    "- The area of the region of rejection is 0.01\n",
    "- The finding is significant at the 0.01 level\n",
    "- The p-value is 0.01\n",
    "- There is a 1 in 100 (0.01) chance of getting a result as extreme or more extreme than this one\n"
   ]
  },
  {
   "cell_type": "markdown",
   "id": "1cb07227",
   "metadata": {},
   "source": [
    "---"
   ]
  },
  {
   "cell_type": "markdown",
   "id": "365a48cd",
   "metadata": {},
   "source": [
    "## Hypothesis Testing For Population Proportion"
   ]
  },
  {
   "cell_type": "markdown",
   "id": "b4e40f23",
   "metadata": {},
   "source": [
    "To perform hypothesis testing for population proportion $ np \\ge 5 $ and $ n(1 - p) \\ge 5 $ must both be true to ensure an approximately normal distribution of the sample proportion.\n",
    "\n",
    "If the population proportion is unknown then the sample proportion, $ \\hat{p} $, can be used instead."
   ]
  },
  {
   "cell_type": "markdown",
   "id": "bc9ae8dd",
   "metadata": {},
   "source": [
    "---"
   ]
  },
  {
   "cell_type": "markdown",
   "id": "49470a8e",
   "metadata": {},
   "source": [
    "## Confidence Interval for the Difference of Means"
   ]
  },
  {
   "cell_type": "markdown",
   "id": "f9f11a0d",
   "metadata": {},
   "source": [
    "We often want to compare two populations and the difference in their means, $ \\bar{x}_1 - \\bar{x}_2 $, as way to see the effect of a treatment on the two groups.\n",
    "\n",
    "If both populations are normally distributed and large enough samples are taken from both populations, $ n_1, n_2 \\ge 30 $, then the Central Limit Theorem will apply and the sampling distribution of the difference of means will be normally distributed.\n",
    "\n",
    "Mean of the sampling distribution of the difference of means:\n",
    "$ \\mu_{\\bar{x}_1 - \\bar{x}_2} = \\mu_{\\bar{x}_1} - \\mu_{\\bar{x}_2} $\n",
    "\n",
    "The standard error of the sampling distribution of the difference of means:\n",
    "\n",
    "$$ \\sigma_{\\bar{x}_1 - \\bar{x}_2} = \\sqrt{\\frac{\\sigma_1^2}{n_1} + \\frac{\\sigma_2^2}{n_2}} $$\n",
    "\n",
    "The confidence interval:\n",
    "\n",
    "$$ (a,b) = (\\bar{x}_1 - \\bar{x}_2) \\pm z_{\\frac{\\alpha}{2}} \\cdot \\sigma_{\\bar{x}_1 - \\bar{x}_2} $$\n",
    "\n",
    "$$ (a,b) = (\\bar{x}_1 - \\bar{x}_2) \\pm z_{\\frac{\\alpha}{2}} \\cdot \\sqrt{\\frac{\\sigma_1^2}{n_1} + \\frac{\\sigma_2^2}{n_2}} $$\n",
    "\n",
    "Where:\n",
    "- $ (a,b) $ is the confidence interval\n",
    "- ($ \\bar{x}_1 $) is the sample mean from the first population \n",
    "- ($ \\bar{x}_2 $) is the sample mean from the second population\n",
    "- ($ z_{\\frac{\\alpha}{2}} $) is the critical value\n",
    "- ($ \\sigma_1 $) is the first population standard deviation\n",
    "- ($ \\sigma_2 $) is the second population standard deviation\n",
    "- ($ n_1 $) is the sample size from the first population\n",
    "- ($ n_2 $) is the sample size from the second population\n",
    "\n",
    "If the population standard deviations are unknown and/or the sample sizes are small then we need to use the sample standard deviations.\n",
    "\n",
    "There are two scenarios to consider:\n",
    "1. Unequal population variances\n",
    "2. Nearly equal population variances\n",
    "\n",
    "### Unequal Population Variances\n",
    "\n",
    "For unequal population variances, which can be assumed if the sample variances are significantly unequal:\n",
    "\n",
    "$$ (a,b) = (\\bar{x}_1 - \\bar{x}_2) \\pm t_{\\frac{\\alpha}{2}} \\cdot \\sqrt{\\frac{s_1^2}{n_1} + \\frac{s_2^2}{n_2}} $$\n",
    "\n",
    "with degrees of freedom (df):\n",
    "\n",
    "$$ \\frac{\\left(\\frac{s_1^2}{n_1} + \\frac{s_2^2}{n_2}\\right)^2}{\\frac{1}{n_1 -1}\\left(\\frac{s_1^2}{n_1}\\right)^2 + \\frac{1}{n_2 -1}\\left(\\frac{s_2^2}{n_2}\\right)^2} $$\n",
    "\n",
    "Note round down when df is not an integer.\n",
    "\n",
    "### Nearly Equal Population Variances\n",
    "\n",
    "For nearly equal population variances, which can be assumed if the sample variances are very close to each other, a **pooled variance** is calculated.\n",
    "\n",
    "Pooled variance:\n",
    "\n",
    "$$ s_p^2 = \\frac{(n_1 -1)s_1^2 + (n_2 -1)s_2^2}{n_1 + n_2 - 2} $$\n",
    "\n",
    "Pooled standard deviation:\n",
    "\n",
    "$$ s_p = \\sqrt{\\frac{(n_1 -1)s_1^2 + (n_2 -1)s_2^2}{n_1 + n_2 - 2}} $$\n",
    "\n",
    "In general, the pooled variance can be used when the samples are taken from the same population or when neither sample variance is more than twice the other.\n",
    "\n",
    "The standard error is:\n",
    "\n",
    "$$ \\sigma_{\\bar{x}_1 - \\bar{x}_2} = s_p\\sqrt{\\frac{1}{n_1} + \\frac{1}{n_2}} $$\n",
    "\n",
    "The confidence interval is:\n",
    "\n",
    "$$ (a,b) = (\\bar{x}_1 - \\bar{x}_2) \\pm t_{\\frac{\\alpha}{2}} \\cdot s_p\\sqrt{\\frac{1}{n_1} + \\frac{1}{n_2}} $$\n",
    "\n",
    "with $ \\text{df} = n_1 - n_2 -2 $\n",
    "\n"
   ]
  },
  {
   "cell_type": "markdown",
   "id": "43a217d9",
   "metadata": {},
   "source": [
    "---"
   ]
  },
  {
   "cell_type": "markdown",
   "id": "f24ffb70",
   "metadata": {},
   "source": [
    "## Hypothesis Testing For Difference of Means"
   ]
  },
  {
   "cell_type": "markdown",
   "id": "9d331e74",
   "metadata": {},
   "source": [
    "### Hypothesis Statements\n",
    "\n",
    "#### Two-tailed test\n",
    "\n",
    "$ H_0: \\mu_1 - \\mu_2 = 0 $\n",
    "\n",
    "$ H_a: \\mu_1 - \\mu_2 \\ne 0 $\n",
    "\n",
    "Or\n",
    "\n",
    "$ H_0: \\mu_1 - \\mu_2 $\n",
    "\n",
    "$ H_a: \\mu_1 \\ne \\mu_2 $\n",
    "\n",
    "#### Upper-tailed test\n",
    "\n",
    "$ H_0: \\mu_1 - \\mu_2 \\le 0 $\n",
    "\n",
    "$ H_a: \\mu_1 - \\mu_2 \\gt 0 $\n",
    "\n",
    "Or\n",
    "\n",
    "$ H_0: \\mu_1 \\le \\mu_2 $\n",
    "\n",
    "$ H_a: \\mu_1 \\gt \\mu_2 $\n",
    "\n",
    "#### Lower-tailed test\n",
    "\n",
    "$ H_0: \\mu_1 - \\mu_2 \\ge 0 $\n",
    "\n",
    "$ H_a: \\mu_1 - \\mu_2 \\lt 0 $\n",
    "\n",
    "Or\n",
    "\n",
    "$ H_0: \\mu_1 \\ge \\mu_2 $\n",
    "\n",
    "$ H_a: \\mu_1 \\lt \\mu_2 $\n",
    "\n",
    "\n",
    "### Calculating Test Statistic for Difference of Means\n",
    "\n",
    "#### Large sample sizes and unequal variances\n",
    "\n",
    "$$ z = \\frac{(\\bar{x_1} - \\bar{x_2}) - (\\mu_1 - \\mu_2)}{\\sqrt{\\frac{s_1^2}{n_1}+\\frac{s_2^2}{n_2}}} $$\n",
    "\n",
    "#### Small sample sizes and unequal variances\n",
    "\n",
    "$$ t = \\frac{(\\bar{x_1} - \\bar{x_2}) - (\\mu_1 - \\mu_2)}{\\sqrt{\\frac{s_1^2}{n_1}+\\frac{s_2^2}{n_2}}} $$\n",
    "\n",
    "$$ df = \\frac{\\left(\\frac{s_1^2}{n_1} + \\frac{s_2^2}{n_2}\\right)^2}{\\frac{1}{n_1 -1}\\left(\\frac{s_1^2}{n_1}\\right)^2 + \\frac{1}{n_2 -1}\\left(\\frac{s_2^2}{n_2}\\right)^2} $$\n",
    "\n",
    "#### Large sample sizes and nearly equal variances\n",
    "\n",
    "$$ z = \\frac{(\\bar{x}_1 - \\bar{x}_2) - (\\mu_1 - \\mu_2)}{s_p\\sqrt{\\frac{1}{n_1} + \\frac{1}{n_2}}} $$\n",
    "\n",
    "#### Small sample sizes and nearly equal variances\n",
    "\n",
    "$$ t = \\frac{(\\bar{x}_1 - \\bar{x}_2) - (\\mu_1 - \\mu_2)}{s_p\\sqrt{\\frac{1}{n_1} + \\frac{1}{n_2}}} $$\n",
    "\n",
    "$$ df = n_1 + n_2 -2 $$\n",
    "\n",
    "Where $ s_p $ is the pooled standard deviation\n",
    "\n"
   ]
  },
  {
   "cell_type": "markdown",
   "id": "c0bf151e",
   "metadata": {},
   "source": [
    "---"
   ]
  },
  {
   "cell_type": "markdown",
   "id": "f8d048ad",
   "metadata": {},
   "source": [
    "## Matched-pair Hypothesis Testing"
   ]
  },
  {
   "cell_type": "markdown",
   "id": "27907ffd",
   "metadata": {},
   "source": [
    "Hypothesis testing with dependent samples is called a **matched-pair test**, where each subject in the first sample is also a subject in the second sample. This test is commonly used to look at the before and after change of applyin a treatment.\n",
    "\n",
    "This is very similar to hypothesis testing for the difference of means, but in that case the samples are independent.\n",
    "\n",
    "### Mean Difference\n",
    "\n",
    "$$ \\bar{d} = \\frac{\\sum_{i=1}^n d_i}{n} $$\n",
    "\n",
    "### Sample Standard Deviation\n",
    "\n",
    "$$ \\sqrt{\\frac{\\sum_{i=1}^n (d_i - \\bar{d})}{n - 1}} $$\n",
    "\n",
    "### Use\n",
    "\n",
    "Use the above to calculate the confidence interval and test statistic and perform hypothesis testing as usual."
   ]
  },
  {
   "cell_type": "markdown",
   "id": "96b7c3b1",
   "metadata": {},
   "source": [
    "---"
   ]
  },
  {
   "cell_type": "markdown",
   "id": "73aca222",
   "metadata": {},
   "source": [
    "## Confidence Interval for Difference of Proportions"
   ]
  },
  {
   "cell_type": "markdown",
   "id": "6b5f0d8d",
   "metadata": {},
   "source": [
    "### Population Proportion Difference Point Estimator\n",
    "\n",
    "$$ \\hat{p} = \\frac{x_1}{n_1} \\text{and} \\hat{p} = \\frac{x_2}{n_2}\n",
    "\n",
    "Where:\n",
    "($ x_1 $) are the number of 'successes' from population 1\n",
    "($ x_2 $) are the number of 'successes' from population 2\n",
    "($ n_1 $) is the size of the sample from population 1\n",
    "($ n_2 $) is the size of the sample from population 2\n",
    "\n",
    "The point estimator for the difference of the population proportions is then:\n",
    "\n",
    "$$ p_1 - p_1 = \\hat{p_1} - \\hat{p_2} $$\n",
    "\n",
    "### Standard Error\n",
    "\n",
    "The sampling distribution of $ \\hat{p_1} - \\hat{p_2} $ has a mean of $ p_1 - p_1 $ and the standard error is:\n",
    "\n",
    "$$ \\sigma_{\\hat{p_1} - \\hat{p_2}} =  \\sqrt{\\frac{p_1(1 - p_1)}{n_1} + \\frac{p_2(1 - p_2}{n_2}} $$\n",
    "\n",
    "Which will be normal if:\n",
    "- $ n_1p_1 \\ge 5 \\text{and} n_1(1 - p_1) \\ge 5 $\n",
    "- $ n_2p_2 \\ge 5 \\text{and} n_2(1 - p_2) \\ge 5 $\n",
    "\n",
    "### Margin of Error\n",
    "\n",
    "$$ \\text{ME}_{\\hat{p_1} - \\hat{p_2}} =  z_{\\frac{\\alpha}{2}}\\sqrt{\\frac{\\hat{p}_1(1 - \\hat{p}_1)}{n_1} + \\frac{\\hat{p}_2(1 - \\hat{p}_2}{n_2}} $$\n",
    "\n",
    "### Confidence Interval\n",
    "\n",
    "$$ (a,b) =  \\hat{p_1} - \\hat{p_2} \\pm z_{\\frac{\\alpha}{2}}\\sqrt{\\frac{\\hat{p}_1(1 - \\hat{p}_1)}{n_1} + \\frac{\\hat{p}_2(1 - \\hat{p}_2}{n_2}} $$\n",
    "\n",
    "**Note**: When the confidence interval contains 0 then there is likely no difference in proportions. However, if the confidence does not contain 0, then there likely is a difference in proportions"
   ]
  },
  {
   "cell_type": "markdown",
   "id": "cc9b3b91",
   "metadata": {},
   "source": [
    "---"
   ]
  },
  {
   "cell_type": "markdown",
   "id": "7fbef7b1",
   "metadata": {},
   "source": [
    "## Hypothesis Testing for Difference of Proportions"
   ]
  },
  {
   "cell_type": "markdown",
   "id": "a46352c1",
   "metadata": {},
   "source": [
    "### Hypothesis Statements\n",
    "\n",
    "#### Two-tailed test\n",
    "\n",
    "$ H_0: p_1 - p_2 = 0 $\n",
    "\n",
    "$ H_a: p_1 - p_2 \\ne 0 $\n",
    "\n",
    "Or\n",
    "\n",
    "$ H_0: p_1 = p_2 $\n",
    "\n",
    "$ H_a: p_1 \\ne p_2 $\n",
    "\n",
    "#### Upper-tailed test\n",
    "\n",
    "$ H_0: p_1 - p_2 \\le 0 $\n",
    "\n",
    "$ H_a: p_1 - p_2 \\gt 0 $\n",
    "\n",
    "Or\n",
    "\n",
    "$ H_0: p_1 \\le p_2 $\n",
    "\n",
    "$ H_a: p_1 \\gt p_2 $\n",
    "\n",
    "#### Lower-tailed test\n",
    "\n",
    "$ H_0: p_1 - p_2 \\ge 0 $\n",
    "\n",
    "$ H_a: p_1 - p_2 \\lt 0 $\n",
    "\n",
    "Or\n",
    "\n",
    "$ H_0: p_1 \\ge p_2 $\n",
    "\n",
    "$ H_a: p_1 \\lt p_2 $\n",
    "\n",
    "### Calculating the Test Statistic\n",
    "\n",
    "If\n",
    "- The samples are independent and random\n",
    "- $ n\\hat{p}_1 \\ge 5 $ and $ n(1 - \\hat{p}_1) \\ge 5 $\n",
    "- $ n\\hat{p}21 \\ge 5 $ and $ n(1 - \\hat{p}_2) \\ge 5 $\n",
    "\n",
    "Then the test statistic is:\n",
    "\n",
    "$$ z = \\frac{(\\hat{p}_1 - \\hat{p}_2) - (p_1 - p_2)}{\\sqrt{\\hat{p}(1 - \\hat{p})(\\frac{1}{n_1} + \\frac{1}{n_2})}} $$\n",
    "\n",
    "Where the proportion of the combined sample, $ \\hat{p} $ is given by:\n",
    "\n",
    "$$ \\hat{p} = \\frac{\\hat{p}_1n_1 + \\hat{p}_2n_2}{n_1 + n_2} $$\n",
    "\n",
    "which can also be written as:\n",
    "\n",
    "$$ \\hat{p} = \\frac{x_1 + x_2}{n_1 + n_2} $$\n",
    "\n",
    "where $ x_1 $ and $ x_2 $ are the number of 'successes' in each sample.\n",
    "\n",
    "\n",
    "\n"
   ]
  },
  {
   "cell_type": "markdown",
   "id": "e688d9d6",
   "metadata": {},
   "source": [
    "---"
   ]
  },
  {
   "cell_type": "code",
   "execution_count": null,
   "id": "70326d23",
   "metadata": {},
   "outputs": [],
   "source": []
  }
 ],
 "metadata": {
  "kernelspec": {
   "display_name": "Python 3 (ipykernel)",
   "language": "python",
   "name": "python3"
  },
  "language_info": {
   "codemirror_mode": {
    "name": "ipython",
    "version": 3
   },
   "file_extension": ".py",
   "mimetype": "text/x-python",
   "name": "python",
   "nbconvert_exporter": "python",
   "pygments_lexer": "ipython3",
   "version": "3.11.5"
  }
 },
 "nbformat": 4,
 "nbformat_minor": 5
}
