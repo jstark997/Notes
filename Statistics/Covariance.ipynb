{
 "cells": [
  {
   "cell_type": "markdown",
   "id": "46f86695",
   "metadata": {},
   "source": [
    "# Covariance\n",
    "---"
   ]
  },
  {
   "cell_type": "markdown",
   "id": "8f97edcb",
   "metadata": {},
   "source": [
    "## Import Python Libraries"
   ]
  },
  {
   "cell_type": "code",
   "execution_count": 1,
   "id": "dce0e5a0",
   "metadata": {},
   "outputs": [],
   "source": [
    "# import Python libraries\n",
    "import matplotlib.pyplot as plt\n",
    "import seaborn as sns\n",
    "import numpy as np\n",
    "import pandas as pd\n",
    "from scipy import stats"
   ]
  },
  {
   "cell_type": "markdown",
   "id": "bbadd613",
   "metadata": {},
   "source": [
    "## Left Align Cell Contents"
   ]
  },
  {
   "cell_type": "code",
   "execution_count": 2,
   "id": "d8099dfe",
   "metadata": {},
   "outputs": [
    {
     "data": {
      "text/html": [
       "<style>\n",
       "table {float:left}\n",
       "</style>\n"
      ],
      "text/plain": [
       "<IPython.core.display.HTML object>"
      ]
     },
     "metadata": {},
     "output_type": "display_data"
    }
   ],
   "source": [
    "%%html\n",
    "<style>\n",
    "table {float:left}\n",
    "</style>"
   ]
  },
  {
   "cell_type": "markdown",
   "id": "ed47553c",
   "metadata": {},
   "source": [
    "---"
   ]
  },
  {
   "cell_type": "markdown",
   "id": "09599a8a",
   "metadata": {},
   "source": [
    "## Covariance"
   ]
  },
  {
   "cell_type": "markdown",
   "id": "4e0c1cbf",
   "metadata": {},
   "source": [
    "Covariance is a measurement of how 2 variables vary together.\n",
    "\n",
    "Like many statistical measures there is a formula for the population covariance and another for the sample covariance.\n",
    "\n",
    "The formula for **population covariance** \\($ \\sigma_{XY} $\\) between two variables \\($ X $\\) and \\($ Y $\\) is:\n",
    "\n",
    "$ \\sigma_{XY} = \\frac{\\sum_{i=1}^{N} (X_i - \\mu_X)(Y_i - \\mu_Y)}{N} $\n",
    "\n",
    "where:\n",
    "- \\($ N $\\) is the number of data points\n",
    "- \\($ X_i $\\) and \\($ Y_i $\\) are the individual data points of variables \\($ X $\\) and \\($ Y $\\)\n",
    "- \\($ \\mu_X $\\) and \\($ \\mu_Y $\\) are the means of variables \\($ X $\\) and \\($ Y $\\) respectively\n",
    "\n",
    "The formula for **sample covariance** \\($ s_{XY} $\\) between two variables \\($ X $\\) and \\($ Y $\\) is:\n",
    "\n",
    "$ s_{XY} = \\frac{\\sum_{i=1}^{n} (X_i - \\bar{X})(Y_i - \\bar{Y})}{n - 1} $\n",
    "\n",
    "where:\n",
    "- \\($ n $\\) is the number of data points in the sample\n",
    "- \\($ X_i $\\) and \\($ Y_i $\\) are the individual data points of variables \\($ X $\\) and \\($ Y $\\)\n",
    "- \\($ \\bar{X} $\\) and \\($ \\bar{Y} $\\) are the sample means of variables \\($ X $\\) and \\($ Y $\\) respectively\n",
    "\n"
   ]
  },
  {
   "cell_type": "markdown",
   "id": "49594821",
   "metadata": {},
   "source": [
    "Covariance can be interpreted as follows:\n",
    "\n",
    "- A value greater than 0 means that as one variable increases or decreases the other variable also increases or decreases.\n",
    "- A value less than 0 means that as one variable increases the other variable decreases and vice versa.\n",
    "- A value of 0 (or close to it) means that the variables have no discernible relationship.\n",
    "- Covariance shows the direction of the relationship not its magnitude.\n",
    "\n",
    "Covariance does not adjust well to changes in units of measurement.  \n",
    "\n",
    "Therefore, in general, it is better to use the correlation coefficient to determine the strength of the relationship between 2 variables."
   ]
  },
  {
   "cell_type": "markdown",
   "id": "892fd577",
   "metadata": {},
   "source": [
    "---"
   ]
  },
  {
   "cell_type": "code",
   "execution_count": null,
   "id": "5dcdb780",
   "metadata": {},
   "outputs": [],
   "source": []
  }
 ],
 "metadata": {
  "kernelspec": {
   "display_name": "Python 3 (ipykernel)",
   "language": "python",
   "name": "python3"
  },
  "language_info": {
   "codemirror_mode": {
    "name": "ipython",
    "version": 3
   },
   "file_extension": ".py",
   "mimetype": "text/x-python",
   "name": "python",
   "nbconvert_exporter": "python",
   "pygments_lexer": "ipython3",
   "version": "3.11.5"
  }
 },
 "nbformat": 4,
 "nbformat_minor": 5
}
