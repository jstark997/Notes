{
 "cells": [
  {
   "cell_type": "markdown",
   "id": "46f86695",
   "metadata": {},
   "source": [
    "# Correlation Coefficient\n",
    "---"
   ]
  },
  {
   "cell_type": "markdown",
   "id": "8f97edcb",
   "metadata": {},
   "source": [
    "## Import Python Libraries"
   ]
  },
  {
   "cell_type": "code",
   "execution_count": 1,
   "id": "dce0e5a0",
   "metadata": {},
   "outputs": [],
   "source": [
    "# import Python libraries\n",
    "import matplotlib.pyplot as plt\n",
    "import seaborn as sns\n",
    "import numpy as np\n",
    "import pandas as pd\n",
    "from scipy import stats"
   ]
  },
  {
   "cell_type": "markdown",
   "id": "bbadd613",
   "metadata": {},
   "source": [
    "## Left Align Cell Contents"
   ]
  },
  {
   "cell_type": "code",
   "execution_count": 2,
   "id": "d8099dfe",
   "metadata": {},
   "outputs": [
    {
     "data": {
      "text/html": [
       "<style>\n",
       "table {float:left}\n",
       "</style>\n"
      ],
      "text/plain": [
       "<IPython.core.display.HTML object>"
      ]
     },
     "metadata": {},
     "output_type": "display_data"
    }
   ],
   "source": [
    "%%html\n",
    "<style>\n",
    "table {float:left}\n",
    "</style>"
   ]
  },
  {
   "cell_type": "markdown",
   "id": "ed47553c",
   "metadata": {},
   "source": [
    "---"
   ]
  },
  {
   "cell_type": "markdown",
   "id": "09599a8a",
   "metadata": {},
   "source": [
    "## Pearson Correlation Coefficient"
   ]
  },
  {
   "cell_type": "markdown",
   "id": "047b23ab",
   "metadata": {},
   "source": [
    "The Pearson correlation coefficient like covariance is a measurment of how 2 variables vary together.  \n",
    "It is calculated by dividing the covariance byt the product of the standard deviations of the variables.\n",
    "\n",
    "The formula for the **population Pearson correlation coefficient** \\($ \\rho $\\) is given by:\n",
    "\n",
    "$ \\rho = \\frac{\\sum_{i=1}^{N} (X_i - \\mu_X)(Y_i - \\mu_Y)}{N \\sigma_X \\sigma_Y} $\n",
    "\n",
    "where:\n",
    "- \\($ N $\\) is the number of data points.\n",
    "- \\($ X_i $\\) and \\($ Y_i $\\) are the individual data points.\n",
    "- \\($ \\mu_X $\\) and \\($ \\mu_Y $\\) are the means of the \\($ X $\\) and \\($ Y $\\) datasets, respectively.\n",
    "- \\($ \\sigma_X $\\) and \\($ \\sigma_Y $\\) are the standard deviations of the \\($ X $\\) and \\($ Y $\\) datasets, respectively.\n",
    "\n",
    "The formula for the **sample Pearson correlation coefficient** \\($ r $\\) is given by:\n",
    "\n",
    "$ r = \\frac{\\sum_{i=1}^{n} (X_i - \\bar{X})(Y_i - \\bar{Y})}{(n-1) s_X s_Y} $\n",
    "\n",
    "where:\n",
    "- \\($ n $\\) is the number of data points.\n",
    "- \\($ X_i $\\) and \\( Y_i \\) are the individual data points.\n",
    "- \\($ \\bar{X} $\\) and \\($ \\bar{Y} $\\) are the means of the \\($ X $\\) and \\($ Y $\\) samples, respectively.\n",
    "- \\($ s_X $\\) and \\($ s_Y $\\) are the sample standard deviations of the \\($ X $\\) and \\($ Y $\\) samples, respectively.\n"
   ]
  },
  {
   "cell_type": "markdown",
   "id": "55cc5820",
   "metadata": {},
   "source": [
    "The following conditions should be met in order to calculate the Pearson correlation coefficient:\n",
    "\n",
    "- The variables are quantitative.\n",
    "- The variables are normally or close to normally distributed.\n",
    "- There are no outliers, which could skew the data.\n",
    "- The relationship between the variables is linear.\n"
   ]
  },
  {
   "cell_type": "markdown",
   "id": "4a643c26",
   "metadata": {},
   "source": [
    "---"
   ]
  },
  {
   "cell_type": "markdown",
   "id": "8f66c3d1",
   "metadata": {},
   "source": [
    "## Interpreting Pearson Correlation Coefficient"
   ]
  },
  {
   "cell_type": "markdown",
   "id": "d2a9cab2",
   "metadata": {},
   "source": [
    "Pearson correlation coefficient can be interpreted as follows:\n",
    "\n",
    "- A value of 1 means the variables are perfectly positively correlated. They fall on a straight trend line with positive slope.\n",
    "- A value of -1 means the variables are perfectly negatively correlated. They fall on a straight tread line with negative slope.\n",
    "- A value of 0 means the variables are not correlated at all.\n",
    "- The value of the coefficient does not indicate anything about the magnitude of the slope of the trend line.\n",
    "- Values between -1 and -0.70 or 0.70 and 1 indicate a strong correlation.\n",
    "- Values between -0.70 and -0.30 or 0.30 and 0.70 indicate a moderate correlation.\n",
    "- Values between -0.30 and 0 or 0 and 0.30 indicate a weak correlation.\n",
    "- A strong correlation does not mean the variables have any causal relationship with one another.\n",
    "    "
   ]
  },
  {
   "cell_type": "markdown",
   "id": "892fd577",
   "metadata": {},
   "source": [
    "---"
   ]
  },
  {
   "cell_type": "code",
   "execution_count": null,
   "id": "5dcdb780",
   "metadata": {},
   "outputs": [],
   "source": []
  }
 ],
 "metadata": {
  "kernelspec": {
   "display_name": "Python 3 (ipykernel)",
   "language": "python",
   "name": "python3"
  },
  "language_info": {
   "codemirror_mode": {
    "name": "ipython",
    "version": 3
   },
   "file_extension": ".py",
   "mimetype": "text/x-python",
   "name": "python",
   "nbconvert_exporter": "python",
   "pygments_lexer": "ipython3",
   "version": "3.11.5"
  }
 },
 "nbformat": 4,
 "nbformat_minor": 5
}
