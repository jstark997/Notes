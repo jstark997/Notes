{
 "cells": [
  {
   "cell_type": "markdown",
   "id": "46f86695",
   "metadata": {},
   "source": [
    "# Chebyshev's Theorem\n",
    "---"
   ]
  },
  {
   "cell_type": "markdown",
   "id": "8f97edcb",
   "metadata": {},
   "source": [
    "## Import Python Libraries"
   ]
  },
  {
   "cell_type": "code",
   "execution_count": 3,
   "id": "dce0e5a0",
   "metadata": {},
   "outputs": [],
   "source": [
    "# import Python libraries\n",
    "import matplotlib.pyplot as plt\n",
    "import seaborn as sns\n",
    "import numpy as np\n",
    "import pandas as pd\n",
    "from scipy import stats"
   ]
  },
  {
   "cell_type": "markdown",
   "id": "bbadd613",
   "metadata": {},
   "source": [
    "## Left Align Cell Contents"
   ]
  },
  {
   "cell_type": "code",
   "execution_count": 4,
   "id": "d8099dfe",
   "metadata": {},
   "outputs": [
    {
     "data": {
      "text/html": [
       "<style>\n",
       "table {float:left}\n",
       "</style>\n"
      ],
      "text/plain": [
       "<IPython.core.display.HTML object>"
      ]
     },
     "metadata": {},
     "output_type": "display_data"
    }
   ],
   "source": [
    "%%html\n",
    "<style>\n",
    "table {float:left}\n",
    "</style>"
   ]
  },
  {
   "cell_type": "markdown",
   "id": "ed47553c",
   "metadata": {},
   "source": [
    "---"
   ]
  },
  {
   "cell_type": "markdown",
   "id": "09599a8a",
   "metadata": {},
   "source": [
    "## Chebyshev's Theorem"
   ]
  },
  {
   "cell_type": "markdown",
   "id": "b714d9e7",
   "metadata": {},
   "source": [
    "Chebyshev's Theorem, also known as Chebyshev's Inequality, provides a lower bound on the probability that the value of a random variable with finite mean and variance lies within a specified number of standard deviations from the mean.  \n",
    "\n",
    "The theorem can be expressed as follows:\n",
    "\n",
    "$ P\\left( |X - \\mu| \\geq k\\sigma \\right) \\leq \\frac{1}{k^2} $\n",
    "\n",
    "or\n",
    "\n",
    "$ P\\left( |X - \\mu| < k\\sigma \\right) \\geq 1 - \\frac{1}{k^2} $\n",
    "\n",
    "where:\n",
    "\n",
    "- $ P $ denotes probability\n",
    "- $ X $ is the random variable\n",
    "- $ \\mu $ is the mean of $ X $\n",
    "- $ \\sigma $ is the standard deviation of $ X $\n",
    "- $ k $ is a positive number (the number of standard deviations)\n"
   ]
  },
  {
   "cell_type": "markdown",
   "id": "2b57b544",
   "metadata": {},
   "source": [
    "The theorem tells us that at least $ 1 - \\frac{1}{k^2} $ of the data must be within $ k $ standard deviations of the mean for $ k > 1 $ , regardless of the shape of the data's distribution.  \n",
    "\n",
    "For any distribution:\n",
    "\n",
    "- At least 75% of the data must be within k = 2 standard deviations of the mean.\n",
    "- At least 89% of the data must be within k = 3 standard deviations of the mean.\n",
    "- At least 94% of the data must be within k = 4 standard deviations of the mean.\n",
    "\n",
    "$ k $ has to be greater than 1 for the theorem to apply."
   ]
  },
  {
   "cell_type": "markdown",
   "id": "892fd577",
   "metadata": {},
   "source": [
    "---"
   ]
  },
  {
   "cell_type": "code",
   "execution_count": null,
   "id": "5dcdb780",
   "metadata": {},
   "outputs": [],
   "source": []
  }
 ],
 "metadata": {
  "kernelspec": {
   "display_name": "Python 3 (ipykernel)",
   "language": "python",
   "name": "python3"
  },
  "language_info": {
   "codemirror_mode": {
    "name": "ipython",
    "version": 3
   },
   "file_extension": ".py",
   "mimetype": "text/x-python",
   "name": "python",
   "nbconvert_exporter": "python",
   "pygments_lexer": "ipython3",
   "version": "3.11.5"
  }
 },
 "nbformat": 4,
 "nbformat_minor": 5
}
