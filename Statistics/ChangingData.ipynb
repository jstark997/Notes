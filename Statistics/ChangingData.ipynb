{
 "cells": [
  {
   "cell_type": "markdown",
   "id": "49043381",
   "metadata": {},
   "source": [
    "# Changing Data\n",
    "---"
   ]
  },
  {
   "cell_type": "markdown",
   "id": "2b0ea6f0",
   "metadata": {},
   "source": [
    "## Import Python Libraries"
   ]
  },
  {
   "cell_type": "code",
   "execution_count": 1,
   "id": "75d09637",
   "metadata": {},
   "outputs": [],
   "source": [
    "# import Python libraries\n",
    "import matplotlib.pyplot as plt\n",
    "import seaborn as sns\n",
    "import numpy as np\n",
    "import pandas as pd\n",
    "import scipy.stats"
   ]
  },
  {
   "cell_type": "markdown",
   "id": "0ddf16e1",
   "metadata": {},
   "source": [
    "---"
   ]
  },
  {
   "cell_type": "markdown",
   "id": "eb1e7f23",
   "metadata": {},
   "source": [
    "## Left Align Cell Contents"
   ]
  },
  {
   "cell_type": "code",
   "execution_count": 2,
   "id": "d8c0444b",
   "metadata": {},
   "outputs": [
    {
     "data": {
      "text/html": [
       "<style>\n",
       "table {float:left}\n",
       "</style>\n"
      ],
      "text/plain": [
       "<IPython.core.display.HTML object>"
      ]
     },
     "metadata": {},
     "output_type": "display_data"
    }
   ],
   "source": [
    "%%html\n",
    "<style>\n",
    "table {float:left}\n",
    "</style>"
   ]
  },
  {
   "cell_type": "markdown",
   "id": "e9bbde5c",
   "metadata": {},
   "source": [
    "---"
   ]
  },
  {
   "cell_type": "markdown",
   "id": "d54d39f6",
   "metadata": {},
   "source": [
    "## Shifting"
   ]
  },
  {
   "cell_type": "markdown",
   "id": "c191e1ea",
   "metadata": {},
   "source": [
    "Shifting the data means adding or subtracting a value from all of the data points.  \n",
    "Shifting the data by x units will:\n",
    "\n",
    "- Shift the mean by x units\n",
    "- Shift the median by x units\n",
    "- Shift the mode by x units\n",
    "- Not affect the range\n",
    "- Not affect the IQR\n",
    "- Not affect the variance\n",
    "- Not affect the standard deviation  \n",
    "\n",
    "Intuitively this makes sense since the values in the data set change but their spread does not."
   ]
  },
  {
   "cell_type": "code",
   "execution_count": null,
   "id": "7a1ca25d",
   "metadata": {},
   "outputs": [],
   "source": []
  },
  {
   "cell_type": "markdown",
   "id": "30a1fb4a",
   "metadata": {},
   "source": [
    "---"
   ]
  },
  {
   "cell_type": "markdown",
   "id": "0f9b873c",
   "metadata": {},
   "source": [
    "## Scaling"
   ]
  },
  {
   "cell_type": "markdown",
   "id": "e8dac353",
   "metadata": {},
   "source": [
    "Scaling the data means multiplying or dividing a value from all of the data points.\n",
    "Scaling the data by x units will:\n",
    "\n",
    "- Scale the mean by x units\n",
    "- Scale the median by x units\n",
    "- Scale the mode by x units\n",
    "- Scale the range by x units\n",
    "- Scale the IQR by x units\n",
    "- Scale the variance by x units\n",
    "- Scale the standard deviation by x units  \n",
    "\n",
    "Intuitively this makes sense since scaling the data not only affects all the values in the data set but also how spread out they are."
   ]
  },
  {
   "cell_type": "code",
   "execution_count": null,
   "id": "4077ec8f",
   "metadata": {},
   "outputs": [],
   "source": []
  },
  {
   "cell_type": "markdown",
   "id": "ab883222",
   "metadata": {},
   "source": [
    "---"
   ]
  },
  {
   "cell_type": "markdown",
   "id": "f3c8bf06",
   "metadata": {},
   "source": [
    "## Adding or Removing a Data Point"
   ]
  },
  {
   "cell_type": "markdown",
   "id": "4ab2a14a",
   "metadata": {},
   "source": [
    "If a data point changed, added or removed for example, then:\n",
    "- The mean will increase if a data point is added above it.\n",
    "- The mean will decrease if a data point is removed below it.\n",
    "- The median may or may not change depending on which data point is added or removed.\n",
    "- The mean is affected much more than the median by adding or removing an extreme value from the data.\n",
    "- The mode may or may not be affected depending on which data point is added or removed."
   ]
  },
  {
   "cell_type": "code",
   "execution_count": null,
   "id": "13592338",
   "metadata": {},
   "outputs": [],
   "source": []
  },
  {
   "cell_type": "markdown",
   "id": "63b6c284",
   "metadata": {},
   "source": [
    "---"
   ]
  },
  {
   "cell_type": "code",
   "execution_count": null,
   "id": "9c33f2a7",
   "metadata": {},
   "outputs": [],
   "source": []
  }
 ],
 "metadata": {
  "kernelspec": {
   "display_name": "Python 3 (ipykernel)",
   "language": "python",
   "name": "python3"
  },
  "language_info": {
   "codemirror_mode": {
    "name": "ipython",
    "version": 3
   },
   "file_extension": ".py",
   "mimetype": "text/x-python",
   "name": "python",
   "nbconvert_exporter": "python",
   "pygments_lexer": "ipython3",
   "version": "3.11.5"
  }
 },
 "nbformat": 4,
 "nbformat_minor": 5
}
