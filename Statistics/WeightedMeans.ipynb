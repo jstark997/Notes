{
 "cells": [
  {
   "cell_type": "markdown",
   "id": "46f86695",
   "metadata": {},
   "source": [
    "# Weighted Mean and Grouped Data\n",
    "---"
   ]
  },
  {
   "cell_type": "markdown",
   "id": "8f97edcb",
   "metadata": {},
   "source": [
    "## Import Python Libraries"
   ]
  },
  {
   "cell_type": "code",
   "execution_count": 1,
   "id": "dce0e5a0",
   "metadata": {},
   "outputs": [],
   "source": [
    "# import Python libraries\n",
    "import matplotlib.pyplot as plt\n",
    "import seaborn as sns\n",
    "import numpy as np\n",
    "import pandas as pd\n",
    "from scipy import stats"
   ]
  },
  {
   "cell_type": "markdown",
   "id": "bbadd613",
   "metadata": {},
   "source": [
    "## Left Align Cell Contents"
   ]
  },
  {
   "cell_type": "code",
   "execution_count": 2,
   "id": "d8099dfe",
   "metadata": {},
   "outputs": [
    {
     "data": {
      "text/html": [
       "<style>\n",
       "table {float:left}\n",
       "</style>\n"
      ],
      "text/plain": [
       "<IPython.core.display.HTML object>"
      ]
     },
     "metadata": {},
     "output_type": "display_data"
    }
   ],
   "source": [
    "%%html\n",
    "<style>\n",
    "table {float:left}\n",
    "</style>"
   ]
  },
  {
   "cell_type": "markdown",
   "id": "ed47553c",
   "metadata": {},
   "source": [
    "---"
   ]
  },
  {
   "cell_type": "markdown",
   "id": "09599a8a",
   "metadata": {},
   "source": [
    "## Weighted Mean"
   ]
  },
  {
   "cell_type": "markdown",
   "id": "95d936d2",
   "metadata": {},
   "source": [
    "The standard way of calculating the mean assumes each data point should be given equal weight in how it contributes to the mean.  \n",
    "However, sometimes, given the data available, it is not correct to assume an equal weight for every data point.  \n",
    "In those cases the mean is calcuated by assigning the appropriate weight to each set of points within the data.\n",
    "\n",
    "The formula for the **weighted population mean** \\($ \\mu_w $\\) is given by:\n",
    "\n",
    "$ \\mu_w = \\frac{\\sum_{i=1}^{N} w_i x_i}{\\sum_{i=1}^{N} w_i} $\n",
    "\n",
    "where:\n",
    "- \\($ x_i $\\) is the value of the \\($ i $\\)-th observation,\n",
    "- \\($ w_i $\\) is the weight of the \\($ i $\\)-th observation,\n",
    "- \\($ n $\\) is the total number of observations.\n",
    "\n",
    "The formula for the **weighted sample mean** \\($ \\bar{x}_w $\\) is given by:\n",
    "\n",
    "$ \\bar{x}_w = \\frac{\\sum_{i=1}^{n} w_i x_i}{\\sum_{i=1}^{n} w_i} $\n",
    "\n",
    "where:\n",
    "- \\($ x_i $\\) is the value of the \\($ i $\\)-th observation,\n",
    "- \\($ w_i $\\) is the weight of the \\($ i $\\)-th observation,\n",
    "- \\($ n $\\) is the total number of observations.\n"
   ]
  },
  {
   "cell_type": "markdown",
   "id": "892fd577",
   "metadata": {},
   "source": [
    "---"
   ]
  },
  {
   "cell_type": "markdown",
   "id": "887ed5d2",
   "metadata": {},
   "source": [
    "## Grouped Data"
   ]
  },
  {
   "cell_type": "markdown",
   "id": "a4659737",
   "metadata": {},
   "source": [
    "When data is grouped, such as in a frequency table by buckets, the calculation of the mean, variance and standard deviation will need to be done in a manner to the weighted mean.  \n",
    "In this case the midpoint of each bucket (or class), \\($ M_i $\\) is used as the value for all of the items in the bucket and the frequency of each bucket, \\($ f_i $\\), is used as the weight.\n",
    "\n",
    "The formula for the **grouped population mean** \\($ \\mu $\\) is given by:\n",
    "\n",
    "$ \\mu = \\frac{\\sum_{i=1}^{N} f_i M_i}{N} $\n",
    "\n",
    "The formula for the **grouped sample mean** \\($ \\bar{x} $\\) is given by:\n",
    "\n",
    "$ \\bar{x} = \\frac{\\sum_{i=1}^{n} f_i M_i}{n} $\n",
    "\n",
    "The formula for the **grouped population variance** \\($ \\sigma^2 $\\) of is given by:\n",
    "\n",
    "$ \\sigma^2 = \\frac{\\sum_{i=1}^{N} f_i (M_i - \\mu)^2}{N} $\n",
    "\n",
    "The formula for the **grouped sample variance** \\($ s^2 $\\) of is given by:\n",
    "\n",
    "$ s^2 = \\frac{\\sum_{i=1}^{n} f_i (M_i - \\bar{x})^2}{n -1} $"
   ]
  },
  {
   "cell_type": "markdown",
   "id": "d273b256",
   "metadata": {},
   "source": [
    "---"
   ]
  },
  {
   "cell_type": "code",
   "execution_count": null,
   "id": "d0aaae06",
   "metadata": {},
   "outputs": [],
   "source": []
  }
 ],
 "metadata": {
  "kernelspec": {
   "display_name": "Python 3 (ipykernel)",
   "language": "python",
   "name": "python3"
  },
  "language_info": {
   "codemirror_mode": {
    "name": "ipython",
    "version": 3
   },
   "file_extension": ".py",
   "mimetype": "text/x-python",
   "name": "python",
   "nbconvert_exporter": "python",
   "pygments_lexer": "ipython3",
   "version": "3.11.5"
  }
 },
 "nbformat": 4,
 "nbformat_minor": 5
}
