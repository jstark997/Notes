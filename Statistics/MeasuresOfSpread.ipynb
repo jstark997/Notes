{
 "cells": [
  {
   "cell_type": "markdown",
   "id": "9683eda4",
   "metadata": {},
   "source": [
    "# Measures of Spread\n",
    "---"
   ]
  },
  {
   "cell_type": "markdown",
   "id": "a87848f5",
   "metadata": {},
   "source": [
    "## Import Python Libraries"
   ]
  },
  {
   "cell_type": "code",
   "execution_count": 3,
   "id": "e5eb1d14",
   "metadata": {},
   "outputs": [],
   "source": [
    "# import Python libraries\n",
    "import matplotlib.pyplot as plt\n",
    "import seaborn as sns\n",
    "import numpy as np\n",
    "import pandas as pd\n",
    "import scipy.stats"
   ]
  },
  {
   "cell_type": "markdown",
   "id": "d909f052",
   "metadata": {},
   "source": [
    "---"
   ]
  },
  {
   "cell_type": "markdown",
   "id": "6a271088",
   "metadata": {},
   "source": [
    "## Left Align Cell Contents"
   ]
  },
  {
   "cell_type": "code",
   "execution_count": 4,
   "id": "e0050177",
   "metadata": {},
   "outputs": [
    {
     "data": {
      "text/html": [
       "<style>\n",
       "table {float:left}\n",
       "</style>\n"
      ],
      "text/plain": [
       "<IPython.core.display.HTML object>"
      ]
     },
     "metadata": {},
     "output_type": "display_data"
    }
   ],
   "source": [
    "%%html\n",
    "<style>\n",
    "table {float:left}\n",
    "</style>"
   ]
  },
  {
   "cell_type": "markdown",
   "id": "1189afa8",
   "metadata": {},
   "source": [
    "---"
   ]
  },
  {
   "cell_type": "markdown",
   "id": "5f76eb9c",
   "metadata": {},
   "source": [
    "**Spread** is how and by how much the data is spread out around its center.\n",
    "\n",
    "- range\n",
    "- interquartile range (IQR)\n",
    "- variance\n",
    "- standard deviation\n",
    "\n",
    "---"
   ]
  },
  {
   "cell_type": "markdown",
   "id": "ab95f9d3",
   "metadata": {},
   "source": [
    "## Range"
   ]
  },
  {
   "cell_type": "markdown",
   "id": "fb720963",
   "metadata": {},
   "source": [
    "Range is the difference between the largest and smallest values in a data set."
   ]
  },
  {
   "cell_type": "code",
   "execution_count": 12,
   "id": "bae9a085",
   "metadata": {},
   "outputs": [
    {
     "name": "stdout",
     "output_type": "stream",
     "text": [
      "Number of golf scores 18\n",
      "Range of golf scores is 9\n"
     ]
    }
   ],
   "source": [
    "golf_scores = [66,67,67,68,68,68,68,69,69,69,69,70,70,71,71,72,73,75]\n",
    "print(f'Number of golf scores {len(golf_scores)}')\n",
    "print(f'Range of golf scores is {golf_scores[-1] - golf_scores[0]}')"
   ]
  },
  {
   "cell_type": "markdown",
   "id": "d5d82609",
   "metadata": {},
   "source": [
    "---"
   ]
  },
  {
   "cell_type": "markdown",
   "id": "9c31e78a",
   "metadata": {},
   "source": [
    "## Interquartile Range (IOR)"
   ]
  },
  {
   "cell_type": "markdown",
   "id": "47c7a89c",
   "metadata": {},
   "source": [
    "Imagine splitting a data set into half at the median. After that imagine splitting the halves at the median of each half to get quarters. Each of those quarters would be a quartile or 25% of the data.\n",
    "\n",
    "- **Q1** = Lower half median, represents the bottom 25% of the data\n",
    "- **Q2** = Median of the data set, represents bottom 50% of the data\n",
    "- **Q3** = Upper half median, represents bottom 75% of the data\n",
    "\n",
    "The interquatile range or **IQR** is the difference between the median of the upper half of the data and the median of the lower half or **Q3 - Q1**.\n",
    "\n",
    "Calculating IOR for an **even** amount of data:\n",
    "1. Split the data into 2 halves.\n",
    "2. Calculate the median for each half: 1) lower half is Q1, 2) upper half is Q3.\n",
    "3. The IOR is Q3 - Q1.\n",
    "\n",
    "Calculating IQR for an **odd** amount of data:\n",
    "1. Find the median of the data which is just the number in the middle of the data set.\n",
    "2. Split the data into 2 halves: 1) lower half - all the data up to but not including the meidan, 2 upper half - all the data from but not including the median.\n",
    "3. Calculate the median of the 2 halves: 1) lower half is Q1, 2) upper half is Q3.\n",
    "4. The IOR is Q3 - Q1.\n"
   ]
  },
  {
   "cell_type": "markdown",
   "id": "a1a2a0cb",
   "metadata": {},
   "source": [
    "Example:\n",
    "\n",
    "Golf scores: 66,67,67,68,68,68,69,69,69,69,70,70,71,71,72,73,75.  \n",
    "There are 18 golf scores, so split the data into 2 halves of 9 scores each.  \n",
    "Lower half: 66,67,67,68,68,68,69,69,69.  \n",
    "Median of lower half, or Q1, is 68.  \n",
    "Upper half: 69,69,70,70,71,71,72,73,75.  \n",
    "Median of upper half, or Q3, is 71.  \n",
    "IQR = 71 - 68 = 3.  "
   ]
  },
  {
   "cell_type": "markdown",
   "id": "a371be4e",
   "metadata": {},
   "source": [
    "## Using scipy stats"
   ]
  },
  {
   "cell_type": "code",
   "execution_count": 13,
   "id": "4be2f198",
   "metadata": {},
   "outputs": [
    {
     "name": "stdout",
     "output_type": "stream",
     "text": [
      "The interquartile range (IQR) of the data set is: 2.75\n"
     ]
    }
   ],
   "source": [
    "# Calculate the interquartile range\n",
    "iqr_value = scipy.stats.iqr(golf_scores)\n",
    "\n",
    "print(f\"The interquartile range (IQR) of the data set is: {iqr_value}\")"
   ]
  },
  {
   "cell_type": "markdown",
   "id": "a9c6db1d",
   "metadata": {},
   "source": [
    "Note:  \n",
    "scipy.stats.iqr doesn't follow the algorithm described above.  \n",
    "Instead it does np.percentile(x, 75) - np.percentile(x, 25) which is not exclusive of the median, it is inclusive.  \n",
    "Which is why the result differs from the above manual calculation."
   ]
  },
  {
   "cell_type": "markdown",
   "id": "2200e252",
   "metadata": {},
   "source": [
    "---"
   ]
  },
  {
   "cell_type": "markdown",
   "id": "f3521bd9",
   "metadata": {},
   "source": [
    "## Outliers"
   ]
  },
  {
   "cell_type": "markdown",
   "id": "fa0a2803",
   "metadata": {},
   "source": [
    "Outliers are points in the data that are very far from the mean.  \n",
    "\n",
    "The technical definition of an outlier uses the 1.5 IQR rule:\n",
    "\n",
    "- low outlier is any value less than Q1 - 1.5(IQR)\n",
    "- high outlier is any value greater than Q3 + 1.5(IQR)"
   ]
  },
  {
   "cell_type": "markdown",
   "id": "68cd2897",
   "metadata": {},
   "source": [
    "---"
   ]
  },
  {
   "cell_type": "markdown",
   "id": "c8e75f08",
   "metadata": {},
   "source": [
    "## Variance"
   ]
  },
  {
   "cell_type": "markdown",
   "id": "3b2f6542",
   "metadata": {},
   "source": [
    "The formula for the **population variance \\($ \\sigma^2 $ \\)** is given by:\n",
    "\n",
    "$ \\sigma^2 = \\frac{1}{N} \\sum_{i=1}^{N} (x_i - \\mu)^2 $\n",
    "\n",
    "where:\n",
    "- \\($ \\sigma^2 $ \\) is the population variance\n",
    "- \\($ N $ \\) is the number of observations in the population\n",
    "- \\($ x_i $ \\) represents each individual observation\n",
    "- \\($ \\mu $ \\) is the population mean\n"
   ]
  },
  {
   "cell_type": "markdown",
   "id": "0f3d2cef",
   "metadata": {},
   "source": [
    "The formula for the **sample variance \\($ s^2 $ \\)** is given by:\n",
    "\n",
    "$ s^2 = \\frac{1}{n-1} \\sum_{i=1}^{n} (x_i - \\bar{x})^2 $\n",
    "\n",
    "where:\n",
    "- \\($ s^2 $ \\) is the sample variance\n",
    "- \\($ n $ \\) is the number of observations in the sample\n",
    "- \\($ x_i $ \\) represents each individual observation\n",
    "- \\($ \\bar{x} $ \\) is the sample mean\n"
   ]
  },
  {
   "cell_type": "markdown",
   "id": "a9bb0e7e",
   "metadata": {},
   "source": [
    "Variance is how far the data is spread from the mean.  \n",
    "In both formulas the difference of the observation and the mean (or the distance from the observation to the mean) is calcuated. This is the deviation of the observation from the mean.  \n",
    "Squaring the deviations ensures a positive result so that observations a negative distance from the mean do not cancel the effect of observations a positive distance from the mean.  \n",
    "The units of variance will be the square of the units of the observations, which in general will not make sense in the context of the data."
   ]
  },
  {
   "cell_type": "markdown",
   "id": "00a0728b",
   "metadata": {},
   "source": [
    "---"
   ]
  },
  {
   "cell_type": "markdown",
   "id": "4072b156",
   "metadata": {},
   "source": [
    "## Standard Deviation"
   ]
  },
  {
   "cell_type": "markdown",
   "id": "25c97d28",
   "metadata": {},
   "source": [
    "The formula for the **population standard deviation \\($ \\sigma $ \\)** is given by:\n",
    "\n",
    "$ \\sigma = \\sqrt{\\frac{1}{N} \\sum_{i=1}^{N} (x_i - \\mu)^2} $\n",
    "\n",
    "where:\n",
    "- \\($ \\sigma $ \\) is the population standard deviation\n",
    "- \\($ N $ \\) is the number of observations in the population\n",
    "- \\($ x_i $ \\) represents each individual observation\n",
    "- \\($ \\mu $ \\) is the population mean\n"
   ]
  },
  {
   "cell_type": "markdown",
   "id": "ccb7eb4f",
   "metadata": {},
   "source": [
    "The formula for the **sample standard deviation \\($ s $ \\)** is given by:\n",
    "\n",
    "$ s = \\sqrt{\\frac{1}{n-1} \\sum_{i=1}^{n} (x_i - \\bar{x})^2} $\n",
    "\n",
    "where:\n",
    "- \\($ s $ \\) is the sample standard deviation\n",
    "- \\($ n $ \\) is the number of observations in the sample\n",
    "- \\($ x_i $ \\) represents each individual observation\n",
    "- \\($ \\bar{x} $ \\) is the sample mean\n"
   ]
  },
  {
   "cell_type": "markdown",
   "id": "958b35de",
   "metadata": {},
   "source": [
    "Standard deviation is a measure of how much the data varies from the mean. It is the square root of the variance.  \n",
    "The units of the standard deviation will be the same units as the observations.  \n",
    "The larger the value of the standard deviation the more the data varies, or is spread, from the mean."
   ]
  },
  {
   "cell_type": "markdown",
   "id": "1637b7aa",
   "metadata": {},
   "source": [
    "---"
   ]
  },
  {
   "cell_type": "code",
   "execution_count": null,
   "id": "06343cf2",
   "metadata": {},
   "outputs": [],
   "source": []
  }
 ],
 "metadata": {
  "kernelspec": {
   "display_name": "Python 3 (ipykernel)",
   "language": "python",
   "name": "python3"
  },
  "language_info": {
   "codemirror_mode": {
    "name": "ipython",
    "version": 3
   },
   "file_extension": ".py",
   "mimetype": "text/x-python",
   "name": "python",
   "nbconvert_exporter": "python",
   "pygments_lexer": "ipython3",
   "version": "3.11.5"
  }
 },
 "nbformat": 4,
 "nbformat_minor": 5
}
