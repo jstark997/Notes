{
 "cells": [
  {
   "cell_type": "markdown",
   "id": "46f86695",
   "metadata": {},
   "source": [
    "# Probability\n",
    "---"
   ]
  },
  {
   "cell_type": "markdown",
   "id": "8f97edcb",
   "metadata": {},
   "source": [
    "## Import Python Libraries"
   ]
  },
  {
   "cell_type": "code",
   "execution_count": 2,
   "id": "dce0e5a0",
   "metadata": {},
   "outputs": [],
   "source": [
    "# import Python libraries\n",
    "import matplotlib.pyplot as plt\n",
    "import seaborn as sns\n",
    "import numpy as np\n",
    "import pandas as pd\n",
    "from scipy import stats"
   ]
  },
  {
   "cell_type": "markdown",
   "id": "bbadd613",
   "metadata": {},
   "source": [
    "## Left Align Cell Contents"
   ]
  },
  {
   "cell_type": "code",
   "execution_count": 3,
   "id": "d8099dfe",
   "metadata": {},
   "outputs": [
    {
     "data": {
      "text/html": [
       "<style>\n",
       "table {float:left}\n",
       "</style>\n"
      ],
      "text/plain": [
       "<IPython.core.display.HTML object>"
      ]
     },
     "metadata": {},
     "output_type": "display_data"
    }
   ],
   "source": [
    "%%html\n",
    "<style>\n",
    "table {float:left}\n",
    "</style>"
   ]
  },
  {
   "cell_type": "markdown",
   "id": "ed47553c",
   "metadata": {},
   "source": [
    "---"
   ]
  },
  {
   "cell_type": "markdown",
   "id": "09599a8a",
   "metadata": {},
   "source": [
    "## Simple Probability"
   ]
  },
  {
   "cell_type": "markdown",
   "id": "93a4165e",
   "metadata": {},
   "source": [
    "Probability is the likelihood that an event will occur.  \n",
    "In statistics, probability is used to measure how likely a statistical result is.\n",
    "\n",
    "Probabibilty is written in terms of:\n",
    "\n",
    "- A fraction such as 1/4\n",
    "- A percentage such as 25%\n",
    "- A value between 0 and 1 (inclusive) such as 0.25\n",
    "\n",
    "A probability of 0 means an event can never occur or is impossible.  \n",
    "A probability of 1 means an event is certain to occur or is guaranteed.  \n",
    "\n",
    "Probability of an event is denoted as P(event) and is given by the formula:\n",
    "\n",
    "The simple probability of an event is given by:\n",
    "\n",
    "$ P(event) = \\frac{\\text{Number of favorable outcomes}}{\\text{Total number of outcomes}} $\n",
    "\n",
    "The total number of outcomes for an event is called the **sample space**.  \n",
    "\n",
    "The simple probability formula only applies to cases where each possible outcome is **equally likely**.  \n",
    "\n",
    "\n",
    "\n",
    "\n"
   ]
  },
  {
   "cell_type": "markdown",
   "id": "892fd577",
   "metadata": {},
   "source": [
    "---"
   ]
  },
  {
   "cell_type": "markdown",
   "id": "a45dc375",
   "metadata": {},
   "source": [
    "## Experimental and Theoretical Probability"
   ]
  },
  {
   "cell_type": "markdown",
   "id": "4fec0561",
   "metadata": {},
   "source": [
    "The simple probability formula is the theoretical probablity of an event (with equally likely outcomes).  \n",
    "\n",
    "However, probability can be estimated by running experiments.  \n",
    "An experiment is an action that results in the event. For example flipping a coin.  \n",
    "Each time a coin is flipped that is a single experiment.  \n",
    "Totaling the results of each experiment gives the calculated experimental probability.  \n",
    "After many experiments the resulting probability should converge on the theoretical probability.  \n",
    "This fact about experimental probability is called the **law of large numbers**."
   ]
  },
  {
   "cell_type": "markdown",
   "id": "bb38e786",
   "metadata": {},
   "source": [
    "---"
   ]
  },
  {
   "cell_type": "markdown",
   "id": "d1904bae",
   "metadata": {},
   "source": [
    "## Addition Rule"
   ]
  },
  {
   "cell_type": "markdown",
   "id": "7a0da33c",
   "metadata": {},
   "source": [
    "Sometimes we need to calculate the probability of 2 events occurring together in a single experiment.  \n",
    "\n",
    "For 2 events, A and B, we have the **addition rule**:  \n",
    "\n",
    "P(A or B) = P(A) + P(B) - P(A and B)\n",
    "\n",
    "The P(A or B) is the sum of all occurrences of where just A happens, P(A), and all occurrences where just B happens, P(B).  \n",
    "But because A and B might happen at the same time need to subtract from the sum of P(A) and P(B) the probability of A and B happening at the same time, P(A and B). \n",
    "\n",
    "However, if events A and B cannot occur at the same time, they are **mutually exclusive**, then P(A and B) is 0 and P(A or B) is just the sum of P(A) and P(B).\n",
    "\n",
    "P(A or B) is called the **union** of A and B.  \n",
    "P(A and B) is called the **intersection** of A and B.\n"
   ]
  },
  {
   "cell_type": "markdown",
   "id": "3d75c4e1",
   "metadata": {},
   "source": [
    "---"
   ]
  },
  {
   "cell_type": "markdown",
   "id": "b42bb321",
   "metadata": {},
   "source": [
    "## Multiplication Rule"
   ]
  },
  {
   "cell_type": "markdown",
   "id": "9d9fa778",
   "metadata": {},
   "source": [
    "**Independent events** are events that have no affect on each other, such as the outcomes of flipping a coin.  \n",
    "\n",
    "To calculate the probability of multiple independent events (or a joint occurrence) we use the **muliplication rule**:  \n",
    "\n",
    "P(A and B) = P(A) * P(B)  \n"
   ]
  },
  {
   "cell_type": "markdown",
   "id": "0af6f6dc",
   "metadata": {},
   "source": [
    "---"
   ]
  },
  {
   "cell_type": "markdown",
   "id": "25440cb1",
   "metadata": {},
   "source": [
    "## Conditional Probability"
   ]
  },
  {
   "cell_type": "markdown",
   "id": "0a0ae387",
   "metadata": {},
   "source": [
    "**Dependent events** are events that have an affect on each other, such as selecting a card from a deck without replacing it and then selecting another card. The first event, selecting a card, changes the probability of which card will be selected the second time because the total number of cards in the deck has been reduced by the first event.  \n",
    "\n",
    "For dependent events, A and B, the multiplication rule becomes:  \n",
    "\n",
    "P(A and B) = P(A) * P(B | A)\n",
    "\n",
    "The probability of P(B | A) is the probability of B given that A has occurred and is called a **conditional probability**.  \n",
    "\n",
    "If the conditional probability P(A | B) = P(A), then the events A and B are independent since the probability of A given B has occurred is the same as the probability of A, meaning B has no effect on A."
   ]
  },
  {
   "cell_type": "markdown",
   "id": "a33f677d",
   "metadata": {},
   "source": [
    "---"
   ]
  },
  {
   "cell_type": "markdown",
   "id": "23d97473",
   "metadata": {},
   "source": [
    "## Bayes' Theorem"
   ]
  },
  {
   "cell_type": "markdown",
   "id": "ab901bbb",
   "metadata": {},
   "source": [
    "Bayes' Theorem gives the probability of an event given prior knowledge of related events that occurred earlier.  \n",
    "\n",
    "\n",
    "$$ P(A \\mid B) = \\frac{P(B \\mid A) P(A)}{P(B)} $$\n",
    "\n",
    "$ P(B \\mid A) $, $ P(A) $, and $ P(B) $ are the prior probabilities.  \n",
    "$ P(A \\mid B) $ is the conditional probability that is updated by the prior probabilities."
   ]
  },
  {
   "cell_type": "markdown",
   "id": "d80d95db",
   "metadata": {},
   "source": [
    "---"
   ]
  },
  {
   "cell_type": "markdown",
   "id": "32b8016a",
   "metadata": {},
   "source": [
    "## Sample Space"
   ]
  },
  {
   "cell_type": "markdown",
   "id": "2fc8f785",
   "metadata": {},
   "source": [
    "The sample space is the set of all possible outcomes from observing a phenomena or conducting an experiment.  \n",
    "Flipping a coin or rolling a die is an example of an experiment.  \n",
    "\n",
    "The sample space for flipping a coin is (H, T) where H is heads and T is tails.  \n",
    "The sample space for rolling a die is (1, 2, 3, 4, 5, 6)."
   ]
  },
  {
   "cell_type": "markdown",
   "id": "c3042b96",
   "metadata": {},
   "source": [
    "---"
   ]
  },
  {
   "cell_type": "markdown",
   "id": "614b9452",
   "metadata": {},
   "source": [
    "## Event"
   ]
  },
  {
   "cell_type": "markdown",
   "id": "57b87f30",
   "metadata": {},
   "source": [
    "An event is the set of outcomes that the experimenter is trying to observe.  \n",
    "So, for example, that a coin comes up heads first after two flips, or that a die comes up even after being rolled.  \n",
    "\n",
    "The event space is a subset of the sample space.  \n",
    "\n",
    "The sample space for flipping a coint twice is (HH, HT, TH, TT) and the event space for heads coming up first after two flips is (HH, HT).  \n",
    "The sample space for rolling a die is (1, 2, 3, 4, 5, 6) and the event space for the die coming up even after one roll is (2, 4, 6)."
   ]
  },
  {
   "cell_type": "markdown",
   "id": "ce88e9b7",
   "metadata": {},
   "source": [
    "---"
   ]
  },
  {
   "cell_type": "markdown",
   "id": "e645376b",
   "metadata": {},
   "source": [
    "## Random Variables"
   ]
  },
  {
   "cell_type": "markdown",
   "id": "281959d7",
   "metadata": {},
   "source": [
    "A random variable is a function that maps from the sample space of an experiment to the real numbers.  \n",
    "\n",
    "Types:\n",
    "- Discrete, can only take discrete values (that is integers)\n",
    "- Continuous, can take any real value within a certain interval (such as [0, 1])\n",
    "\n"
   ]
  },
  {
   "cell_type": "markdown",
   "id": "c63b51e3",
   "metadata": {},
   "source": [
    "---"
   ]
  },
  {
   "cell_type": "markdown",
   "id": "dbfcac2d",
   "metadata": {},
   "source": [
    "## Probability Distribution"
   ]
  },
  {
   "cell_type": "markdown",
   "id": "94f96aa6",
   "metadata": {},
   "source": [
    "For a discrete random variable the probability distribution is the probability for each possible value the random variable can take.  \n",
    "\n",
    "For a continuous random variable there is a probability density curve the area under which sums to 1, which is the sum of all the probabilities for every possible value. The probability of any particular value is 0 since there are an infinite number of possible values.  However, the probability of a range of values can be calculated from the area under the probability density curve between the values that define the range."
   ]
  },
  {
   "cell_type": "markdown",
   "id": "020049ed",
   "metadata": {},
   "source": [
    "---"
   ]
  },
  {
   "cell_type": "markdown",
   "id": "7d8be626",
   "metadata": {},
   "source": [
    "## Expected Value"
   ]
  },
  {
   "cell_type": "markdown",
   "id": "dc836477",
   "metadata": {},
   "source": [
    "The expected value of a discrete random value is the mean of the random variable.  \n",
    "\n",
    "This is sometimes referred to as the long term average as it is the value that one would expect to see after many experiments have been performed.  \n",
    "\n",
    "To calculate the expected value weight each value in the probability distribution by the probability of that value and sum up the weighted values.  \n"
   ]
  },
  {
   "cell_type": "markdown",
   "id": "9327b532",
   "metadata": {},
   "source": [
    "$ E(X) = \\sum_{i=1}^{n} x_i \\cdot p(x_i) $\n"
   ]
  },
  {
   "cell_type": "markdown",
   "id": "c0152c6e",
   "metadata": {},
   "source": [
    "To caculate the variance of a discrete random variable, sum the squared difference of each value and the expected value multiplied by the probability of that value."
   ]
  },
  {
   "cell_type": "markdown",
   "id": "d8b4c5cc",
   "metadata": {},
   "source": [
    "$ \\text{Var}(X) = \\sum_{i=1}^{n} (x_i - E(X))^2 \\cdot p(x_i) $"
   ]
  },
  {
   "cell_type": "markdown",
   "id": "5acf69cf",
   "metadata": {},
   "source": [
    "The standard deviation of a discrete random variable is the square root of the variance."
   ]
  },
  {
   "cell_type": "markdown",
   "id": "7bc175c3",
   "metadata": {},
   "source": [
    "---"
   ]
  },
  {
   "cell_type": "markdown",
   "id": "e1dfea05",
   "metadata": {},
   "source": [
    "## Combinations of Random Variables"
   ]
  },
  {
   "cell_type": "markdown",
   "id": "b1698ce7",
   "metadata": {},
   "source": [
    "Random variables can be combined either through summation or difference.  \n",
    "The mean (expected value), variance and standard deviation of the combination can be calculated.  \n",
    "However, if the variables are not independent of each other, then only the mean of the combination can be calculated.  \n",
    "\n",
    "\n",
    "|          | Combination | Mean | Variance |\n",
    "|----------|-------------|------|----------|\n",
    "| Sum | $$ S = X + Y $$ | $$ \\mu_S = \\mu_X + \\mu_Y $$ | $$ \\sigma^2_S = \\sigma^2_X + \\sigma^2_Y $$ |\n",
    "| Difference | $$ S = X - Y $$ | $$ \\mu_S = \\mu_X - \\mu_Y $$ | $$ \\sigma^2_S = \\sigma^2_X - \\sigma^2_Y $$ |\n",
    "\n"
   ]
  },
  {
   "cell_type": "markdown",
   "id": "1150b872",
   "metadata": {},
   "source": [
    "The standard deviation of a combination is the square root of the variance of the combination.  \n",
    "\n",
    "Combinations or normally distributed random variables are also normally distributed."
   ]
  },
  {
   "cell_type": "markdown",
   "id": "b8e6f4a9",
   "metadata": {},
   "source": [
    "---"
   ]
  },
  {
   "cell_type": "markdown",
   "id": "dee5a15e",
   "metadata": {},
   "source": [
    "## Permutations and Combinations"
   ]
  },
  {
   "cell_type": "markdown",
   "id": "d44b4b2a",
   "metadata": {},
   "source": [
    "A permutation is the number of ways a set of things can be arrange where the order matters.  \n",
    "\n",
    "The formula to calculate a permutation \\($ P(n, k) $\\) is given by:\n",
    "\n",
    "$$ P(n, k) = \\frac{n!}{(n-k)!} $$\n",
    "\n",
    "where \\($ n $\\) is the total number of items, and \\($ k $\\) is the number of items to choose.\n"
   ]
  },
  {
   "cell_type": "markdown",
   "id": "d6c25f06",
   "metadata": {},
   "source": [
    "A combination is the number of ways a set of things can be arranged where the order doesn't matter.\n",
    "\n",
    "The formula to calculate a combination \\($ C(n, k) $\\) is given by:\n",
    "\n",
    "$$ C(n, k) = \\binom{n}{k} = \\frac{n!}{k!(n-k)!} $$\n",
    "\n",
    "where \\($ n $\\) is the total number of items, and \\($ k $\\) is the number of items to choose.\n"
   ]
  },
  {
   "cell_type": "markdown",
   "id": "ea5db3fa",
   "metadata": {},
   "source": [
    "A combination is sometimes written as a binomial coefficient.  \n",
    "\n",
    "The binomial coefficient \\($ \\binom{n}{k} $\\) is written as:\n",
    "\n",
    "$$ \\binom{n}{k} $$\n",
    "\n",
    "This represents the number of ways to choose \\($ k $\\) items from \\($ n $\\) items without regard to the order of selection.\n"
   ]
  },
  {
   "cell_type": "markdown",
   "id": "01be6954",
   "metadata": {},
   "source": [
    "## Binomial Random Variables"
   ]
  },
  {
   "cell_type": "markdown",
   "id": "5ae92d08",
   "metadata": {},
   "source": [
    "Can only have 2 outcomes.\n",
    "But the probability of the outcomes does not have to be equal.\n",
    "\n",
    "A random variable X is a **binomial random variable** if:\n",
    "- Each trial is independent\n",
    "- Each trial can be labelled a success or failure\n",
    "- There are a fixed number of trials\n",
    "- The probability of success on for each trial is constant\n",
    "\n",
    "A classic example of a binomial random variable is one that models the outcome of flipping a coin.\n",
    "\n",
    "Mean: $ \\mu_x = E(X) = np $\n",
    "\n",
    "Variance: $ \\sigma_X^2 = np(1 - p) $\n",
    "\n",
    "Standard deviation: $ \\sqrt{\\sigma_X^2} = \\sigma_X = \\sqrt{np(1 - p)}$ "
   ]
  },
  {
   "cell_type": "markdown",
   "id": "93c6111a",
   "metadata": {},
   "source": [
    "---"
   ]
  },
  {
   "cell_type": "markdown",
   "id": "2e052f8f",
   "metadata": {},
   "source": [
    "## Binomial Probability"
   ]
  },
  {
   "cell_type": "markdown",
   "id": "8891ea96",
   "metadata": {},
   "source": [
    "The binomial probability formula is given by:\n",
    "\n",
    "$ P(X = k) = \\binom{n}{k} p^k (1-p)^{n-k} $ \n",
    "\n",
    "where:\n",
    "- \\($ n $\\) is the number of trials\n",
    "- \\($ k $\\) is the number of successful trials\n",
    "- \\($ p $\\) is the probability of success on a single trial\n",
    "- $ \\binom{n}{k} $ is the binomial coefficient, calculated as \\($\\frac{n!}{k!(n-k)!} $ \\)\n"
   ]
  },
  {
   "cell_type": "markdown",
   "id": "cf863827",
   "metadata": {},
   "source": [
    "---"
   ]
  },
  {
   "cell_type": "markdown",
   "id": "c9f123b0",
   "metadata": {},
   "source": [
    "## Poisson Process"
   ]
  },
  {
   "cell_type": "markdown",
   "id": "32cf7925",
   "metadata": {},
   "source": [
    "A **Poisson process** has the following characteristics:\n",
    "- Each experiment counts the number of times an event occurs over some other measurement (time, distance, area, etc.)\n",
    "- For each interval of the measurement (seconds, inches, square feet, etc.) the mean is the same\n",
    "- The number of events in each interval is independent of the other intervals\n",
    "- The intervals do not overlap\n",
    "- The probability of the event occurring is proportional to the interval of measurement\n",
    "\n",
    "The probability of observing ($ k $) events in a Poisson process with an average rate of ($ \\lambda $) events per interval is given by:\n",
    "\n",
    "$$ P(X = k) = \\frac{{\\lambda^k e^{-\\lambda}}}{{k!}} $$\n",
    "\n",
    "where:\n",
    "- \\($ P(X = k) $\\) is the probability of observing \\($ k $\\) events,\n",
    "- \\($ \\lambda $\\) is the average rate of events,\n",
    "- \\($ k $\\) is the number of events,\n",
    "- \\($ e $\\) is the base of the natural logarithm (approximately equal to 2.71828),\n",
    "- \\($ k! $\\) is the factorial of \\($ k $\\).\n"
   ]
  },
  {
   "cell_type": "markdown",
   "id": "da51a60b",
   "metadata": {},
   "source": [
    "The Poisson distribution can be used to approximate the binomial distribution when the number, $ n $, of binomial trials is at least 20 and when the probabibility of success, $ p $, is at most 0.05.\n",
    "\n",
    "The probability of k successes in n attempts given by the Poisson formula is:\n",
    "\n",
    "$$ P(X = k) = \\frac{{(np)^k e^{-np}}}{{k!}} $$"
   ]
  },
  {
   "cell_type": "markdown",
   "id": "6cac2df6",
   "metadata": {},
   "source": [
    "---"
   ]
  },
  {
   "cell_type": "markdown",
   "id": "0267e0b0",
   "metadata": {},
   "source": [
    "## Bernoulli Random Variables"
   ]
  },
  {
   "cell_type": "markdown",
   "id": "8da97965",
   "metadata": {},
   "source": [
    "A **Bernoulli random variable** is a binomial random variable where there is exactly 1 trial and success is defined as 1 and failure is defined as 0. Where $ p $ is the probability of success.\n",
    "\n",
    "Mean: $ \\mu = (1 - p)(0) + p(1) = p$ \n",
    "\n",
    "Variance: $ \\sigma^2 = (1 - p)(0 - \\mu)^2 + p(1 - \\mu)^2 = p(1 -p) $\n",
    "\n",
    "Standard deviation: $\\sqrt{\\sigma^2} = \\sigma = \\sqrt{p(1 - p)} $"
   ]
  },
  {
   "cell_type": "markdown",
   "id": "6f65af9c",
   "metadata": {},
   "source": [
    "---"
   ]
  },
  {
   "cell_type": "code",
   "execution_count": null,
   "id": "3dc10bda",
   "metadata": {},
   "outputs": [],
   "source": []
  },
  {
   "cell_type": "code",
   "execution_count": null,
   "id": "46c0a948",
   "metadata": {},
   "outputs": [],
   "source": []
  },
  {
   "cell_type": "code",
   "execution_count": null,
   "id": "835961a0",
   "metadata": {},
   "outputs": [],
   "source": []
  },
  {
   "cell_type": "code",
   "execution_count": null,
   "id": "4baf4e21",
   "metadata": {},
   "outputs": [],
   "source": []
  }
 ],
 "metadata": {
  "kernelspec": {
   "display_name": "Python 3 (ipykernel)",
   "language": "python",
   "name": "python3"
  },
  "language_info": {
   "codemirror_mode": {
    "name": "ipython",
    "version": 3
   },
   "file_extension": ".py",
   "mimetype": "text/x-python",
   "name": "python",
   "nbconvert_exporter": "python",
   "pygments_lexer": "ipython3",
   "version": "3.11.5"
  }
 },
 "nbformat": 4,
 "nbformat_minor": 5
}
