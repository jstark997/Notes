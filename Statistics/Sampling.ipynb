{
 "cells": [
  {
   "cell_type": "markdown",
   "id": "46f86695",
   "metadata": {},
   "source": [
    "# Sampling\n",
    "---"
   ]
  },
  {
   "cell_type": "markdown",
   "id": "8f97edcb",
   "metadata": {},
   "source": [
    "## Import Python Libraries"
   ]
  },
  {
   "cell_type": "code",
   "execution_count": 1,
   "id": "dce0e5a0",
   "metadata": {},
   "outputs": [],
   "source": [
    "# import Python libraries\n",
    "import matplotlib.pyplot as plt\n",
    "import seaborn as sns\n",
    "import numpy as np\n",
    "import pandas as pd\n",
    "from scipy import stats"
   ]
  },
  {
   "cell_type": "markdown",
   "id": "bbadd613",
   "metadata": {},
   "source": [
    "## Left Align Cell Contents"
   ]
  },
  {
   "cell_type": "code",
   "execution_count": 2,
   "id": "d8099dfe",
   "metadata": {},
   "outputs": [
    {
     "data": {
      "text/html": [
       "<style>\n",
       "table {float:left}\n",
       "</style>\n"
      ],
      "text/plain": [
       "<IPython.core.display.HTML object>"
      ]
     },
     "metadata": {},
     "output_type": "display_data"
    }
   ],
   "source": [
    "%%html\n",
    "<style>\n",
    "table {float:left}\n",
    "</style>"
   ]
  },
  {
   "cell_type": "markdown",
   "id": "ed47553c",
   "metadata": {},
   "source": [
    "---"
   ]
  },
  {
   "cell_type": "markdown",
   "id": "09599a8a",
   "metadata": {},
   "source": [
    "## Why Sample"
   ]
  },
  {
   "cell_type": "markdown",
   "id": "5166ddf7",
   "metadata": {},
   "source": [
    "Collecting data from every member of a population that is under study is usually difficult or impossible, therefore data is collected from a much smaller sample of members from the population. If the sample is large enough and collected properly, conclusions drawn from studying the sample should also apply to the population at large.\n",
    "\n",
    "**Statistics** are derivations like mean and standard deviation calculated from a sample.\n",
    "**Parameters** are derivations calculated from the entire population."
   ]
  },
  {
   "cell_type": "markdown",
   "id": "892fd577",
   "metadata": {},
   "source": [
    "---"
   ]
  },
  {
   "cell_type": "markdown",
   "id": "0ab48fbb",
   "metadata": {},
   "source": [
    "## Types of Studies"
   ]
  },
  {
   "cell_type": "markdown",
   "id": "7092dc72",
   "metadata": {},
   "source": [
    "An **observational study** just looks at how a population or sample is without attempting to change it in any way. The study might show that some variables of the sample are correlated in some way (postively or negatively). However, the study cannot establish that correlated variables are causally related. There could be an unknown **confounding variable** not apparent from mere observation that is the actual cause of the correlation.\n",
    "\n",
    "An **experimental study** manipulates the members of a sample by applying a **treatment** to some members but not to others. In the **control group** no treatment is applied. In the **treatment group** the members of the group are manipulated in some way. An experimental study tries to determine causation for a phenomenom.\n",
    "\n",
    "A **blind experiment** is when the participants do not know whether they are in the control or treatment group. A **double-blind experiment** is when both the participants and the people administering the experiment do not know who is in the control or treatment groups.\n",
    "\n",
    "**Blocking** is when participants are separated into groups to see how the treatment affects them differently (if at all). The common alternative is to assign people to groups completely at random. But doing so makes is difficult to control for characteristics that might have an affect in how people respond to the treatment.\n",
    "\n",
    "A **matched pairs experiment** uses blocking to ensure that participants in the control and treatment groups are matched based on similar characteristics (such as sex, age, etc.). This type of experiment can help to control for potentially confounding variables."
   ]
  },
  {
   "cell_type": "markdown",
   "id": "5cb2ec7c",
   "metadata": {},
   "source": [
    "---"
   ]
  },
  {
   "cell_type": "markdown",
   "id": "791cd0d9",
   "metadata": {},
   "source": [
    "## Bias"
   ]
  },
  {
   "cell_type": "markdown",
   "id": "9b94cc53",
   "metadata": {},
   "source": []
  },
  {
   "cell_type": "markdown",
   "id": "d2488a85",
   "metadata": {},
   "source": [
    "---"
   ]
  },
  {
   "cell_type": "markdown",
   "id": "f4e81ce2",
   "metadata": {},
   "source": [
    "## Sampling Distribution of The Sample Mean"
   ]
  },
  {
   "cell_type": "markdown",
   "id": "8d274204",
   "metadata": {},
   "source": [
    "Every sample from a population has its own statistic (mean, variance, standard deviation, etc.). The **sampling distribution of the sample mean** (**SDSM**) is the mean of all the means of every sample taken.\n",
    "\n",
    "If each sample is large enough, then the SDSM will be a **normal distribution**.\n",
    "\n",
    "The SDSM is the probability distribution of a possible values of the sample mean $ \\bar{x} $."
   ]
  },
  {
   "cell_type": "markdown",
   "id": "6b5ce8c0",
   "metadata": {},
   "source": [
    "---"
   ]
  },
  {
   "cell_type": "markdown",
   "id": "702f44fc",
   "metadata": {},
   "source": [
    "## Central Limit Theorem"
   ]
  },
  {
   "cell_type": "markdown",
   "id": "b9c64b95",
   "metadata": {},
   "source": [
    "The **Central Limit Theorem** states that the SDSM will be normally distributed if:\n",
    "\n",
    "- The population that the samples are taken from is normally distributed, **OR**\n",
    "- The population that the samples are taken from is not normally distributed, or is unknown, but the size, $ n $, of each sample is at least 30.\n",
    "\n",
    "Also according to the Central Limit Theorem:\n",
    "\n",
    "- Mean of the SDSM is the same as the mean of the population: $ \\mu_\\bar{x} = \\mu $\n",
    "- If the population is infinite or sampling is done with replacement then the variance of the sampling distribution is equal to the population variance divided by the sample size: $$ \\sigma_\\bar{x}^2 = \\frac{\\sigma^2}{n} $$\n",
    "- If the population variance is unknown then the sample variance is an estimate of the popuation variance: $$ S_\\bar{x}^2 \\approx \\frac{S^2}{n} $$\n",
    "- The standard deviation of the sampling distribution, **standard error**, when the population standard deviation is known is $$ SE = \\sigma_\\bar{x} = \\frac{\\sigma}{\\sqrt{n}} $$\n",
    "- If the population standard deviation is not known then sample standard deviation is an estimate of the population standard deviation: $$ SE = S_\\bar{x} \\approx \\frac{S}{\\sqrt{n}} $$\n",
    "\n",
    "The standard error is a measure of how accurate, as an estimate of the population mean, the mean of any particular sample is likely to be. A large standard error means that the sample means are spread further out from each other. While a small standard error indicates that the sample means are close to each other, and so are likely to be good estimates of the population mean.\n",
    "\n",
    "- The standard error will be larger when the population standard deviation is larger and/or the sample size is smaller.\n",
    "- The standard error will be smaller when the population standard deviation is smaller and/or the sample size is larger."
   ]
  },
  {
   "cell_type": "markdown",
   "id": "88b01697",
   "metadata": {},
   "source": [
    "---"
   ]
  },
  {
   "cell_type": "markdown",
   "id": "5a598c32",
   "metadata": {},
   "source": [
    "## Finite Population Correction Factor"
   ]
  },
  {
   "cell_type": "markdown",
   "id": "a55921c2",
   "metadata": {},
   "source": [
    "The **finite population correlation factor** (** FPC **) is given by $$ \\sqrt{\\frac{(N - n)}{(N - 1)}} $$\n",
    "Where:\n",
    "- ($ N $) is the population size\n",
    "- ($ n $) is the sample size\n",
    "\n",
    "When the population is:\n",
    "- inifinte, or\n",
    "- sampling is done with replacement, or\n",
    "- the population is finite but large compared with the sample size, that is sample size is less than or equal to 5% of the population ($ \\frac{n}{N} \\le 0,05 $)\n",
    "\n",
    "Then the FPC is close to 1.\n",
    "\n",
    "The formula for the standard error with FPC is $$ \\sigma_\\bar{x} = \\frac{\\sigma}{\\sqrt{n}}\\sqrt{\\frac{(N - n)}{(N - 1)}} $$"
   ]
  },
  {
   "cell_type": "markdown",
   "id": "e1b73e69",
   "metadata": {},
   "source": [
    "---"
   ]
  },
  {
   "cell_type": "markdown",
   "id": "6214c738",
   "metadata": {},
   "source": [
    "## Sampling Distribution of the Sample Proportion"
   ]
  },
  {
   "cell_type": "markdown",
   "id": "8813ad44",
   "metadata": {},
   "source": [
    "The population proportion, $ p $, is the number of members of a population that meet a specific condition (for example the number of people in the United States that have blue eyes).\n",
    "\n",
    "The sample proportion, $ \\hat{p} $, is the number of members of a sample that meet a specific condtion.\n",
    "\n",
    "The **sample distribution of the sample proportion** (**SDSP**) is the probability distribution of all possible sample proportions.\n",
    "\n",
    "The distribution of a proportion is a binomial distribution, since whether a member meets a specific conditon, is either a success or failure. However, the Central Limit Theorem states that if the sample size is at least 30, then the SDSP will be normally distributed.\n",
    "\n",
    "- Mean of the SDSP is equal to the population proportion: $ \\mu_\\hat{p} = p $\n",
    "- If the population proportion is known then the variance: $$ \\sigma_\\hat{p}^2 = \\frac{p(1 - p)}{n} $$\n",
    "- If the population proportion is unknown then the variance is estimated using the sample proportion: $$ \\sigma_\\hat{p}^2 \\approx \\frac{\\hat{p}(1 - \\hat{p})}{n} $$\n",
    "- The standard error if the population proportion is know is: $$ SE = \\sigma_\\hat{p} = \\sqrt{\\frac{p(1 - p)}{n}} $$\n",
    "- The standard erro rif the population proportion in unknown is: $$ SE \\approx \\sigma_\\hat{p} \\approx \\sqrt{\\frac{\\hat{p}(1 - \\hat{p})}{n}} $$\n",
    "\n",
    "The finite population correction factor (FCP) must be applied to the variance and standard error if the population is finite and $ \\frac{n}{N} \\le 0.05 $."
   ]
  },
  {
   "cell_type": "markdown",
   "id": "6f0047b3",
   "metadata": {},
   "source": [
    "---"
   ]
  },
  {
   "cell_type": "markdown",
   "id": "0197e139",
   "metadata": {},
   "source": [
    "## Conditions on Samples for Inference From SDSM or SDSP"
   ]
  },
  {
   "cell_type": "markdown",
   "id": "7167a3bb",
   "metadata": {},
   "source": [
    "1. **Random** - All samples must be random\n",
    "2. **Normal** - For SDSM all samples must be of size 30 or larger and for SDSP $ np \\ge 5 $ and $ n(1 - p) \\ge 5 $ to ensure a normally distributed SDSM or SDSP\n",
    "3. **Independent** - If sampling without replacement then sample size must be below 10% of the total population\n",
    "\n",
    "If these conditions are met then:\n",
    "- the SDSM can be used to determine the probability that a given sample mean will be within some distance of the population mean\n",
    "- the SDSP can be used to determine the probability that a given sample proportion will be within some distance of the population proporation\n",
    "\n",
    "Specifically a z-score can be calculated for the sample mean or sample proportion.\n",
    "\n",
    "Sample mean z-score: $$ z_\\bar{x} = \\frac{\\bar{x} - \\mu}{\\sigma_\\bar{x}} = \\frac{\\bar{x} - \\mu}{\\frac{\\sigma}{\\sqrt{n}}} $$ \n",
    "\n",
    "Sample proportion z-score: $$ z_\\hat{p} = \\frac{\\hat{p} - p}{\\sigma_\\hat{p}} = \\frac{\\hat{p} - p}{\\sqrt{\\frac{p(1 - p)}{n}}} $$"
   ]
  },
  {
   "cell_type": "markdown",
   "id": "7cf415ac",
   "metadata": {},
   "source": [
    "---"
   ]
  },
  {
   "cell_type": "markdown",
   "id": "5e517c60",
   "metadata": {},
   "source": [
    "## Student's t-Distribution"
   ]
  },
  {
   "cell_type": "markdown",
   "id": "4aedb4bd",
   "metadata": {},
   "source": [
    "The **student's t-distribution** is a normal distribution with mean centered at zero but generally has a standard deviation larger than the z-distribution. This means more of the area under the t-distribution is at the tails."
   ]
  },
  {
   "cell_type": "code",
   "execution_count": 3,
   "id": "f466f8e6",
   "metadata": {},
   "outputs": [
    {
     "data": {
      "image/png": "[encoded data removed]",
      "text/plain": [
       "<Figure size 640x480 with 1 Axes>"
      ]
     },
     "metadata": {},
     "output_type": "display_data"
    }
   ],
   "source": [
    "import numpy as np\n",
    "import seaborn as sns\n",
    "import matplotlib.pyplot as plt\n",
    "from scipy.stats import norm, t\n",
    "\n",
    "# Generate data for the z-distribution (standard normal distribution)\n",
    "z_data = np.random.normal(0, 1, 1000)\n",
    "\n",
    "# Generate data for the t-distribution with 10 degrees of freedom\n",
    "t_data = np.random.standard_t(df=4, size=1000)\n",
    "\n",
    "# Plotting the distributions\n",
    "sns.set(style=\"whitegrid\")\n",
    "\n",
    "# Plot z-distribution\n",
    "sns.kdeplot(z_data, label='Z-distribution (Standard Normal)', color='blue')\n",
    "\n",
    "# Plot t-distribution\n",
    "sns.kdeplot(t_data, label='T-distribution (df=4)', color='red')\n",
    "\n",
    "# Add titles and labels\n",
    "plt.title('Z-distribution vs T-distribution')\n",
    "plt.xlabel('Value')\n",
    "plt.ylabel('Density')\n",
    "plt.legend()\n",
    "\n",
    "# Show the plot\n",
    "plt.show()\n"
   ]
  },
  {
   "cell_type": "markdown",
   "id": "bf5cad62",
   "metadata": {},
   "source": [
    "The standard deviation of the t-distribution is affected by the sample size which in turn determines the **degrees of freedom** of the distribution.\n",
    "\n",
    "The degrees of freedom of a t-distribution is given by $ n - 1 $, where $ n $ is the sample size.\n",
    "\n",
    "The larger the sample size, the larger the degrees of freedom and the smaller the standard deviation of the distribution.\n",
    "\n",
    "When the sample size equals 30 the t-distribution closely approximates the z-distribution.\n",
    "\n",
    "Therefore, in general:\n",
    "- If $ n \\ge 30 $ and population standard deviation is known then calculate the z-score and look it up in the z-table\n",
    "- If $ n \\lt 30 $ or population standard deviation is unknown the calculate the t-score and look it up in the t-table"
   ]
  },
  {
   "cell_type": "markdown",
   "id": "4ae185f2",
   "metadata": {},
   "source": [
    "---"
   ]
  },
  {
   "cell_type": "markdown",
   "id": "bf5f8b7f",
   "metadata": {},
   "source": [
    "## Confidence Interval for the Mean"
   ]
  },
  {
   "cell_type": "markdown",
   "id": "fd9c221e",
   "metadata": {},
   "source": [
    "The sample mean and sample proportion are **point estimates** of the population mean and population proportion. From a point estimate there is no way to tell how good of an estimate it is.\n",
    "\n",
    "An **interval estimate** gives a range of values in which a population parameter might be. Using an interval estimate, a **confidence level** can be calculated which is the probability that a population parameter is within the interval estimate. An interval estimate with a specificed confidence level is a **confidence interval**.\n",
    "\n",
    "Typical confidence levels are 90%, 95% and 99%.\n",
    "\n",
    "The inverse of a confidence level is the **alpha value** or **level of significance** which is the probability that a population parameter will not be within the confidence interval. \n",
    "\n",
    "$ \\alpha = 1 - \\text{confidence level} $\n",
    "\n",
    "Typical alpha values are 10%, 5% and 1%.\n",
    "\n",
    "The alpha value is the total area under the normal distribution outside the confidence interval. Half of this area, $ \\frac{\\alpha}{2} $, will be in the lower tail of the distribution and half will be in the upper tail. These areas at the tails are known as the **region of rejection**.\n",
    "\n",
    "Z-scores, **critical values**, for typical confidence levels:\n",
    "- 90% confidence level, $ z = \\pm 1.65 $\n",
    "- 95% confidence level, $ z = \\pm 1.96 $\n",
    "- 99% confidence level, $ z = \\pm 2.58 $\n",
    "\n",
    "Confidence interval when population standard deviation, $ \\sigma $, is known:\n",
    "\n",
    "$$ (a,b) = \\bar{x} \\pm z \\cdot \\frac{\\sigma}{\\sqrt{n}} $$\n",
    "\n",
    "Where:\n",
    "- $ (a, b) $ is the confidence interval\n",
    "- ($ \\bar{x} $) is the sample mean\n",
    "- ($ z $) is the critical value\n",
    "- ($ \\sigma $) is the population standard deviation\n",
    "- ($ n $) is the sample size\n",
    "\n",
    "Note that the standard error, $ \\sigma_\\bar{x} $, is $ \\frac{\\sigma}{\\sqrt{n}} $ .\n",
    "\n",
    "The **margin of error** therefore is $ z \\cdot \\frac{\\sigma}{\\sqrt{n}} $  .\n",
    "\n",
    "And so the confidence interval is the interval around the sample mean within the margin of error.\n",
    "\n",
    "Note:\n",
    "- The higher the confidence level the larger the margin of error and the wider the confidence interval\n",
    "- The larger the population standard deviation the larger the margin of error and the wider the confidence interval\n",
    "- The larger the sample size the smaller the margin of error and the narrower the confidence interval\n",
    "\n",
    "In general want the smallest confidence interval possible as that will more accurately estimate the population parameter.\n",
    "\n",
    "If sampling is done without replacement from a finite population then the finite population correction factor applies to the confidence interval in the same way it applies to the standard error:\n",
    "$$ (a,b) = \\bar{x} \\pm z \\cdot \\frac{\\sigma}{\\sqrt{n}} \\cdot \\sqrt{\\frac{N - n}{N - 1}} $$\n",
    "\n",
    "\n",
    "Confidence interval when population standard deviation is unknown or sample is small:\n",
    "\n",
    "$$ (a,b) = \\bar{x} \\pm t \\cdot \\frac{s}{\\sqrt{n}} $$\n",
    "\n",
    "Where:\n",
    "- $ (a, b) $ is the confidence interval\n",
    "- ($ \\bar{x} $) is the sample mean\n",
    "- ($ t $) is the t-value\n",
    "- ($ s $) is the sample standard deviation\n",
    "- ($ n $) is the sample size\n",
    "\n",
    "Because the sample standard deviation, $ s $, is a less reliable predictor of $ \\sigma $ we use the more conservative t-value instead of the z-value. Also if the sample size is less than 30 then the Central Limit Theorem does not apply and we need to use the t-value instead of the z-value.\n"
   ]
  },
  {
   "cell_type": "markdown",
   "id": "b16667a6",
   "metadata": {},
   "source": [
    "---"
   ]
  },
  {
   "cell_type": "markdown",
   "id": "adf3739d",
   "metadata": {},
   "source": [
    "## Sample Size for Fixed Margin of Error"
   ]
  },
  {
   "cell_type": "markdown",
   "id": "a86d74b4",
   "metadata": {},
   "source": [
    "Recall that margin of error is $ \\text{ME} = z \\cdot \\frac{\\sigma}{\\sqrt{n}} $\n",
    "\n",
    "So solving for sample size, $ n $, gives:\n",
    "\n",
    "$$ n = \\left(\\frac{z \\cdot \\sigma}{\\text{ME}}\\right)^2  $$"
   ]
  },
  {
   "cell_type": "markdown",
   "id": "3df6d4d2",
   "metadata": {},
   "source": [
    "---"
   ]
  },
  {
   "cell_type": "markdown",
   "id": "19f7da2d",
   "metadata": {},
   "source": [
    "## Confidence Interval for the Proportion"
   ]
  },
  {
   "cell_type": "markdown",
   "id": "e7cedc72",
   "metadata": {},
   "source": [
    "The confidence interval for the sample proportion:\n",
    "\n",
    "$$ (a,b) = \\hat{p} \\pm z \\cdot \\sqrt{\\frac{\\hat{p}(1 - \\hat{p}}{n}} $$\n",
    "\n",
    "Where:\n",
    "- $ (a,b) $ is the confidence interval\n",
    "- ($ \\hat{p} $) is the sample proportion\n",
    "- ($ z $) is the critical value\n",
    "- ($ n $) is the sample size\n",
    "\n",
    "The margin of error is given by:\n",
    "\n",
    "$$ z \\cdot \\sqrt{\\frac{\\hat{p}(1 - \\hat{p}}{n}} $$\n",
    "\n",
    "\n",
    "In order to use the above formula for the confidence interval $ n\\hat{p} \\ge 5 $ and $ n(1 - \\hat{p}) \\ge 5 $ which is likely if the sample size is reasonably large.\n",
    "\n",
    "Otherwise the finite population correction factor applies:\n",
    "\n",
    "$$ (a,b) = \\hat{p} \\pm z \\cdot \\sqrt{\\frac{\\hat{p}(1 - \\hat{p}}{n}} \\cdot \\sqrt{\\frac{N - n}{N - 1}} $$"
   ]
  },
  {
   "cell_type": "markdown",
   "id": "8dc2380b",
   "metadata": {},
   "source": [
    "---"
   ]
  },
  {
   "cell_type": "code",
   "execution_count": null,
   "id": "7f0c73e7",
   "metadata": {},
   "outputs": [],
   "source": []
  },
  {
   "cell_type": "code",
   "execution_count": null,
   "id": "6010ad74",
   "metadata": {},
   "outputs": [],
   "source": []
  }
 ],
 "metadata": {
  "kernelspec": {
   "display_name": "Python 3 (ipykernel)",
   "language": "python",
   "name": "python3"
  },
  "language_info": {
   "codemirror_mode": {
    "name": "ipython",
    "version": 3
   },
   "file_extension": ".py",
   "mimetype": "text/x-python",
   "name": "python",
   "nbconvert_exporter": "python",
   "pygments_lexer": "ipython3",
   "version": "3.11.5"
  }
 },
 "nbformat": 4,
 "nbformat_minor": 5
}
