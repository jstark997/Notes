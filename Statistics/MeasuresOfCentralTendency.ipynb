{
 "cells": [
  {
   "cell_type": "markdown",
   "id": "afc4e6e4",
   "metadata": {},
   "source": [
    "# Measures of Central Tendency\n",
    "---"
   ]
  },
  {
   "cell_type": "markdown",
   "id": "29571d10",
   "metadata": {},
   "source": [
    "## Import Python Libraries"
   ]
  },
  {
   "cell_type": "code",
   "execution_count": 16,
   "id": "5abf94c9",
   "metadata": {},
   "outputs": [],
   "source": [
    "# import Python libraries\n",
    "import math\n",
    "import matplotlib.pyplot as plt\n",
    "import seaborn as sns\n",
    "import numpy as np\n",
    "import pandas as pd"
   ]
  },
  {
   "cell_type": "markdown",
   "id": "0abcf995",
   "metadata": {},
   "source": [
    "---"
   ]
  },
  {
   "cell_type": "markdown",
   "id": "58acfb6d",
   "metadata": {},
   "source": [
    "## Left Align Cell Contents"
   ]
  },
  {
   "cell_type": "code",
   "execution_count": 17,
   "id": "c3cee592",
   "metadata": {},
   "outputs": [
    {
     "data": {
      "text/html": [
       "<style>\n",
       "table {float:left}\n",
       "</style>\n"
      ],
      "text/plain": [
       "<IPython.core.display.HTML object>"
      ]
     },
     "metadata": {},
     "output_type": "display_data"
    }
   ],
   "source": [
    "%%html\n",
    "<style>\n",
    "table {float:left}\n",
    "</style>"
   ]
  },
  {
   "cell_type": "markdown",
   "id": "9177fd3d",
   "metadata": {},
   "source": [
    "---"
   ]
  },
  {
   "cell_type": "markdown",
   "id": "46cc1efd",
   "metadata": {},
   "source": [
    "## Mean"
   ]
  },
  {
   "cell_type": "markdown",
   "id": "da0ae467",
   "metadata": {},
   "source": [
    "The formula for the **population mean (μ)** is given by:\n",
    "\n",
    "$ \\mu = \\frac{1}{N} \\sum_{i=1}^{N} x_i $\n",
    "\n",
    "where:\n",
    "- \\($ \\mu $ \\) is the population mean\n",
    "- \\($ N $ \\) is the size of the population\n",
    "- \\($ x_i $ \\) represents each value in the population\n"
   ]
  },
  {
   "cell_type": "markdown",
   "id": "d6461509",
   "metadata": {},
   "source": [
    "The formula for the **sample mean \\($ \\bar{x} $ \\)** is given by:\n",
    "\n",
    "$ \\bar{x} = \\frac{1}{n} \\sum_{i=1}^{n} x_i $\n",
    "\n",
    "where:\n",
    "- \\($ \\bar{x} $ \\) is the sample mean\n",
    "- \\($ n $ \\) is the number of observations\n",
    "- \\($ x_i $ \\) represents each individual observation\n"
   ]
  },
  {
   "cell_type": "markdown",
   "id": "6aaa84f3",
   "metadata": {},
   "source": [
    "The two formulas are identical, but the notation is different in order to specify the context, population or sample, of the mean."
   ]
  },
  {
   "cell_type": "markdown",
   "id": "5183437d",
   "metadata": {},
   "source": [
    "Example:"
   ]
  },
  {
   "cell_type": "code",
   "execution_count": 2,
   "id": "cb316b7b",
   "metadata": {},
   "outputs": [
    {
     "name": "stdout",
     "output_type": "stream",
     "text": [
      "Sum of x's = 21\n",
      "Number of x's = 6\n",
      "Mean of x's = 3.5\n"
     ]
    }
   ],
   "source": [
    "xs = [1,2,3,4,5,6]\n",
    "sum_of_xs = sum(xs)\n",
    "print(f\"Sum of x's = {sum_of_xs}\")\n",
    "num_of_xs = len(xs)\n",
    "print(f\"Number of x's = {num_of_xs}\")\n",
    "print(f\"Mean of x's = {sum_of_xs/num_of_xs}\")\n"
   ]
  },
  {
   "cell_type": "markdown",
   "id": "3075f22e",
   "metadata": {},
   "source": [
    "---"
   ]
  },
  {
   "cell_type": "markdown",
   "id": "ffe7c2c0",
   "metadata": {},
   "source": [
    "## Median"
   ]
  },
  {
   "cell_type": "markdown",
   "id": "6497e860",
   "metadata": {},
   "source": [
    "The **median** is the value in the middle of the data when the data points are in order from least to greatest.\n",
    "\n",
    "### Even Number of Data Points\n",
    "\n",
    "The **median** for an even number of data points is the mean of the 2 numbers in the middle of the data.\n",
    "\n",
    "### Odd Number of Data Points\n",
    "\n",
    "The **median** for an odd number of data points is the number that is exactly in the middle of the data."
   ]
  },
  {
   "cell_type": "markdown",
   "id": "f5fa93e2",
   "metadata": {},
   "source": [
    "Examples:"
   ]
  },
  {
   "cell_type": "code",
   "execution_count": 25,
   "id": "7996db7f",
   "metadata": {},
   "outputs": [
    {
     "name": "stdout",
     "output_type": "stream",
     "text": [
      "Number of x's = 6\n",
      "Median = 3.5\n"
     ]
    }
   ],
   "source": [
    "#Even number of data points\n",
    "xs = [1,2,3,4,5,6]\n",
    "num_of_xs = len(xs)\n",
    "print(f\"Number of x's = {num_of_xs}\")\n",
    "print(f\"Median = {(xs[(num_of_xs // 2) - 1] + xs[num_of_xs // 2]) / 2}\")"
   ]
  },
  {
   "cell_type": "code",
   "execution_count": 27,
   "id": "1a44c636",
   "metadata": {},
   "outputs": [
    {
     "name": "stdout",
     "output_type": "stream",
     "text": [
      "Meidan = 4\n"
     ]
    }
   ],
   "source": [
    "#Odd number of points\n",
    "xs = [1,2,3,4,5,6,7]\n",
    "print(f\"Meidan = {xs[3]}\")"
   ]
  },
  {
   "cell_type": "markdown",
   "id": "e419a64e",
   "metadata": {},
   "source": [
    "---"
   ]
  },
  {
   "cell_type": "markdown",
   "id": "424c0f7c",
   "metadata": {},
   "source": [
    "## Mode"
   ]
  },
  {
   "cell_type": "markdown",
   "id": "9dd263f1",
   "metadata": {},
   "source": [
    "The **mode** is the most common value in the data.\n",
    "- No most common value, no **mode**.\n",
    "- Two values tied for most common value, then **bi-modal** or no mode (either is acceptable)"
   ]
  },
  {
   "cell_type": "code",
   "execution_count": null,
   "id": "faf9fd05",
   "metadata": {},
   "outputs": [],
   "source": []
  }
 ],
 "metadata": {
  "kernelspec": {
   "display_name": "Python 3 (ipykernel)",
   "language": "python",
   "name": "python3"
  },
  "language_info": {
   "codemirror_mode": {
    "name": "ipython",
    "version": 3
   },
   "file_extension": ".py",
   "mimetype": "text/x-python",
   "name": "python",
   "nbconvert_exporter": "python",
   "pygments_lexer": "ipython3",
   "version": "3.11.5"
  }
 },
 "nbformat": 4,
 "nbformat_minor": 5
}
